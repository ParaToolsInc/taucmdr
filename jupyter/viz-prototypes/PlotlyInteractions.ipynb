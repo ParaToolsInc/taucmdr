{
 "cells": [
  {
   "cell_type": "code",
   "execution_count": 1,
   "metadata": {},
   "outputs": [],
   "source": [
    "from taucmdr.cf.storage.levels import USER_STORAGE\n",
    "from taucmdr.error import ConfigurationError\n",
    "from taucmdr.model.trial import Trial\n",
    "from ipywidgets import interact\n",
    "import ipywidgets as widgets\n",
    "from IPython.display import display\n",
    "import nbformat\n",
    "import plotly.graph_objs as pgo\n",
    "from tau_profile_parser import TauProfileParser\n",
    "import matplotlib\n",
    "import pandas as pd"
   ]
  },
  {
   "cell_type": "code",
   "execution_count": 2,
   "metadata": {},
   "outputs": [
    {
     "data": {
      "application/vnd.jupyter.widget-view+json": {
       "model_id": "aa43c46de7824b0a9799e15d571a9125",
       "version_major": 2,
       "version_minor": 0
      },
      "text/plain": [
       "aW50ZXJhY3RpdmUoY2hpbGRyZW49KERyb3Bkb3duKGRlc2NyaXB0aW9uPXUndHJpYWxfaWQnLCBvcHRpb25zPSgxLCAyLCAzKSwgdmFsdWU9MSksIERyb3Bkb3duKGRlc2NyaXB0aW9uPXUnbWXigKY=\n"
      ]
     },
     "metadata": {},
     "output_type": "display_data"
    },
    {
     "data": {
      "text/plain": [
       "<function __main__.trial_barplot_widget>"
      ]
     },
     "execution_count": 2,
     "metadata": {},
     "output_type": "execute_result"
    }
   ],
   "source": [
    "def trial_barplot_figure(trial_id, metric):\n",
    "    profile = TauProfileParser.parse('./mpi-profile-example')\n",
    "\n",
    "    mdata = profile.interval_data()[[metric]]\n",
    "    idata = mdata.unstack().sort_values((0, 0, 0), axis = 1, ascending = False).transpose().fillna(0)\n",
    "    df = pd.concat([idata[:100], idata[:100].sum(level = 0).rename({metric: 'MISC'})], copy = False)\n",
    "    indices = [str(i) for i in df.columns.values]\n",
    "\n",
    "    data = [\n",
    "        pgo.Bar(\n",
    "            y = indices[::-1],\n",
    "            x = r.values[::-1],\n",
    "            name = idx[1],\n",
    "            orientation = \"h\",\n",
    "            hoverinfo = \"text\",\n",
    "            text = [ \"<br>\".join([idx[1][i:i+75] for i in range(0, len(idx[1]), 75)])] * len(indices)\n",
    "        ) for idx, r in df.iterrows()]\n",
    "\n",
    "    data[-1]['marker'] = { 'color': '#333333' }\n",
    "\n",
    "    layout = pgo.Layout(\n",
    "        barmode = 'stack',\n",
    "        showlegend = False,\n",
    "        hovermode = 'closest',\n",
    "        margin = pgo.layout.Margin(l = 0, r = 0, b = 0, t = 10))\n",
    "\n",
    "    return pgo.Figure(data = data, layout = layout)\n",
    "\n",
    "def trial_barplot_widget(trial_id, metric):\n",
    "    return trial_barplot_figure(trial_id, metric)\n",
    "\n",
    "trial_selector = widgets.Dropdown(options=[1,2,3], value=1)\n",
    "metric_selector = widgets.Dropdown(options=[\"Exclusive\", \"Inclusive\"], value=\"Exclusive\")\n",
    "interact(trial_barplot_widget, trial_id = trial_selector, metric = metric_selector)"
   ]
  },
  {
   "cell_type": "code",
   "execution_count": 3,
   "metadata": {},
   "outputs": [
    {
     "data": {
      "application/vnd.jupyter.widget-view+json": {
       "model_id": "2fd146c4244e4d0795dde540af827603",
       "version_major": 2,
       "version_minor": 0
      },
      "text/plain": [
       "aW50ZXJhY3RpdmUoY2hpbGRyZW49KERyb3Bkb3duKGRlc2NyaXB0aW9uPXUndHJpYWxfaWQnLCBvcHRpb25zPSgxLCAyLCAzKSwgdmFsdWU9MSksIERyb3Bkb3duKGRlc2NyaXB0aW9uPXUnbWXigKY=\n"
      ]
     },
     "metadata": {},
     "output_type": "display_data"
    },
    {
     "data": {
      "text/plain": [
       "<function __main__.profile_barplot_widget>"
      ]
     },
     "execution_count": 3,
     "metadata": {},
     "output_type": "execute_result"
    }
   ],
   "source": [
    "def profile_barplot_figure(trial_id, metric, indices):\n",
    "    profile = TauProfileParser.parse('./mpi-profile-example')\n",
    "    idata = profile.interval_data()\n",
    "    \n",
    "    ds = idata.loc[indices][[metric]].sort_values(metric)\n",
    "    maxval = ds[metric].max()\n",
    "    nrows = ds.shape[0]\n",
    "    \n",
    "    colors_str = \"#1f77b4,#aec7e8,#ff7f0e,#ffbb78,#2ca02c,#98df8a,#d62728,#ff9896,#9467bd,#c5b0d5,#8c564b,#c49c94,#e377c2,#f7b6d2,#7f7f7f,#c7c7c7,#bcbd22,#dbdb8d,#17becf,#9edae5,#7fc97f,#beaed4,#fdc086,#ffff99,#386cb0,#f0027f,#bf5b17,#666666,#1b9e77,#d95f02,#7570b3,#e7298a,#66a61e,#e6ab02,#a6761d,#666666,#fbb4ae,#b3cde3,#ccebc5,#decbe4,#fed9a6,#ffffcc,#e5d8bd,#fddaec,#f2f2f2,#393b79,#5254a3,#6b6ecf,#9c9ede,#637939,#8ca252,#b5cf6b,#cedb9c,#8c6d31,#bd9e39,#e7ba52,#e7cb94,#843c39,#ad494a,#d6616b,#e7969c,#7b4173,#a55194,#ce6dbd,#de9ed6,#8dd3c7,#ffffb3,#bebada,#fb8072,#80b1d3,#fdb462,#b3de69,#fccde5,#d9d9d9,#bc80bd,#ccebc5,#ffed6f,#3182bd,#6baed6,#9ecae1,#c6dbef,#e6550d,#fd8d3c,#fdae6b,#fdd0a2,#31a354,#74c476,#a1d99b,#c7e9c0,#756bb1,#9e9ac8,#bcbddc,#dadaeb,#636363,#969696,#bdbdbd,#d9d9d9\"\n",
    "    colors = colors_str.split(',')\n",
    "\n",
    "    data = [\n",
    "        pgo.Bar(\n",
    "            x = ds[metric],\n",
    "            y = ds.index.values,\n",
    "            orientation = 'h',\n",
    "            marker = dict(color = colors[:nrows]),\n",
    "            text = ds.index.values,\n",
    "            textposition = 'outside'\n",
    "        )]\n",
    "\n",
    "    layout = pgo.Layout(\n",
    "        autosize = True,\n",
    "        height = 25 * nrows,\n",
    "        margin = pgo.layout.Margin(l = 0, r = 0, b = 0, t = 10),\n",
    "        xaxis = dict(range = (maxval * -0.1, maxval * 1.25)))\n",
    "\n",
    "    return pgo.Figure(data = data, layout = layout)\n",
    "\n",
    "def profile_barplot_widget(trial_id, metric, indices):\n",
    "    return profile_barplot_figure(trial_id, metric, indices)\n",
    "\n",
    "trial_selector = widgets.Dropdown(options = [1, 2, 3], value = 1)\n",
    "metric_selector = widgets.Dropdown(options = [\"Exclusive\", \"Inclusive\"], value = \"Exclusive\")\n",
    "indices_selector = widgets.Dropdown(options = [(0, 0, 0), (1, 0, 0)], value = (0, 0, 0))\n",
    "interact(profile_barplot_widget, trial_id = trial_selector, metric = metric_selector, indices = indices_selector)"
   ]
  },
  {
   "cell_type": "code",
   "execution_count": null,
   "metadata": {},
   "outputs": [],
   "source": []
  }
 ],
 "metadata": {
  "kernelspec": {
   "display_name": "Python 2",
   "language": "python",
   "name": "python2"
  },
  "language_info": {
   "codemirror_mode": {
    "name": "ipython",
    "version": 2
   },
   "file_extension": ".py",
   "mimetype": "text/x-python",
   "name": "python",
   "nbconvert_exporter": "python",
   "pygments_lexer": "ipython2",
   "version": "2.7.18"
  }
 },
 "nbformat": 4,
 "nbformat_minor": 4
}
