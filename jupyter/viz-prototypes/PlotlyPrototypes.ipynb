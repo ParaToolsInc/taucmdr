{
 "cells": [
  {
   "cell_type": "code",
   "execution_count": 3,
   "metadata": {},
   "outputs": [],
   "source": [
    "from tau_profile_parser import TauProfileParser\n",
    "import matplotlib\n",
    "import pandas as pd\n",
    "import nbformat\n",
    "import plotly.graph_objs as pgo"
   ]
  },
  {
   "cell_type": "code",
   "execution_count": 4,
   "metadata": {},
   "outputs": [
    {
     "data": {
      "application/vnd.plotly.v1+json": {
       "config": {
        "plotlyServerURL": "https://plot.ly"
       },
       "data": [
        {
         "hoverinfo": "text",
         "name": ".TAU application",
         "orientation": "h",
         "text": [
          ".TAU application",
          ".TAU application",
          ".TAU application",
          ".TAU application",
          ".TAU application",
          ".TAU application",
          ".TAU application"
         ],
         "type": "bar",
         "x": [
          2459688,
          2444839,
          2669087,
          2617729,
          2589264,
          2478607,
          2479469
         ],
         "y": [
          "(6, 0, 0)",
          "(5, 0, 0)",
          "(4, 0, 0)",
          "(3, 0, 0)",
          "(2, 0, 0)",
          "(1, 0, 0)",
          "(0, 0, 0)"
         ]
        },
        {
         "hoverinfo": "text",
         "name": "[SAMPLE] compute [{/luke-perm/taucmdr/examples/mm/matmult.c} {101}]",
         "orientation": "h",
         "text": [
          "[SAMPLE] compute [{/luke-perm/taucmdr/examples/mm/matmult.c} {101}]",
          "[SAMPLE] compute [{/luke-perm/taucmdr/examples/mm/matmult.c} {101}]",
          "[SAMPLE] compute [{/luke-perm/taucmdr/examples/mm/matmult.c} {101}]",
          "[SAMPLE] compute [{/luke-perm/taucmdr/examples/mm/matmult.c} {101}]",
          "[SAMPLE] compute [{/luke-perm/taucmdr/examples/mm/matmult.c} {101}]",
          "[SAMPLE] compute [{/luke-perm/taucmdr/examples/mm/matmult.c} {101}]",
          "[SAMPLE] compute [{/luke-perm/taucmdr/examples/mm/matmult.c} {101}]"
         ],
         "type": "bar",
         "x": [
          1074994,
          1049990,
          1000001,
          1194996,
          1204986,
          1119996,
          1050011
         ],
         "y": [
          "(6, 0, 0)",
          "(5, 0, 0)",
          "(4, 0, 0)",
          "(3, 0, 0)",
          "(2, 0, 0)",
          "(1, 0, 0)",
          "(0, 0, 0)"
         ]
        },
        {
         "hoverinfo": "text",
         "name": ".TAU application  => [CONTEXT] .TAU application  => [SAMPLE] compute [{/luke-perm/taucmdr/examples/mm/matmult.c} {101}]",
         "orientation": "h",
         "text": [
          ".TAU application  => [CONTEXT] .TAU application  => [SAMPLE] compute [{/luk<br>e-perm/taucmdr/examples/mm/matmult.c} {101}]",
          ".TAU application  => [CONTEXT] .TAU application  => [SAMPLE] compute [{/luk<br>e-perm/taucmdr/examples/mm/matmult.c} {101}]",
          ".TAU application  => [CONTEXT] .TAU application  => [SAMPLE] compute [{/luk<br>e-perm/taucmdr/examples/mm/matmult.c} {101}]",
          ".TAU application  => [CONTEXT] .TAU application  => [SAMPLE] compute [{/luk<br>e-perm/taucmdr/examples/mm/matmult.c} {101}]",
          ".TAU application  => [CONTEXT] .TAU application  => [SAMPLE] compute [{/luk<br>e-perm/taucmdr/examples/mm/matmult.c} {101}]",
          ".TAU application  => [CONTEXT] .TAU application  => [SAMPLE] compute [{/luk<br>e-perm/taucmdr/examples/mm/matmult.c} {101}]",
          ".TAU application  => [CONTEXT] .TAU application  => [SAMPLE] compute [{/luk<br>e-perm/taucmdr/examples/mm/matmult.c} {101}]"
         ],
         "type": "bar",
         "x": [
          1074994,
          1049990,
          1000001,
          1194996,
          1204986,
          1119996,
          1050011
         ],
         "y": [
          "(6, 0, 0)",
          "(5, 0, 0)",
          "(4, 0, 0)",
          "(3, 0, 0)",
          "(2, 0, 0)",
          "(1, 0, 0)",
          "(0, 0, 0)"
         ]
        },
        {
         "hoverinfo": "text",
         "name": ".TAU application  => [CONTEXT] .TAU application  => [SAMPLE] compute_interchange [{/luke-perm/taucmdr/examples/mm/matmult.c} {122}]",
         "orientation": "h",
         "text": [
          ".TAU application  => [CONTEXT] .TAU application  => [SAMPLE] compute_interc<br>hange [{/luke-perm/taucmdr/examples/mm/matmult.c} {122}]",
          ".TAU application  => [CONTEXT] .TAU application  => [SAMPLE] compute_interc<br>hange [{/luke-perm/taucmdr/examples/mm/matmult.c} {122}]",
          ".TAU application  => [CONTEXT] .TAU application  => [SAMPLE] compute_interc<br>hange [{/luke-perm/taucmdr/examples/mm/matmult.c} {122}]",
          ".TAU application  => [CONTEXT] .TAU application  => [SAMPLE] compute_interc<br>hange [{/luke-perm/taucmdr/examples/mm/matmult.c} {122}]",
          ".TAU application  => [CONTEXT] .TAU application  => [SAMPLE] compute_interc<br>hange [{/luke-perm/taucmdr/examples/mm/matmult.c} {122}]",
          ".TAU application  => [CONTEXT] .TAU application  => [SAMPLE] compute_interc<br>hange [{/luke-perm/taucmdr/examples/mm/matmult.c} {122}]",
          ".TAU application  => [CONTEXT] .TAU application  => [SAMPLE] compute_interc<br>hange [{/luke-perm/taucmdr/examples/mm/matmult.c} {122}]"
         ],
         "type": "bar",
         "x": [
          590058,
          605009,
          770057,
          659997,
          569997,
          584989,
          640002
         ],
         "y": [
          "(6, 0, 0)",
          "(5, 0, 0)",
          "(4, 0, 0)",
          "(3, 0, 0)",
          "(2, 0, 0)",
          "(1, 0, 0)",
          "(0, 0, 0)"
         ]
        },
        {
         "hoverinfo": "text",
         "name": "[SAMPLE] compute_interchange [{/luke-perm/taucmdr/examples/mm/matmult.c} {122}]",
         "orientation": "h",
         "text": [
          "[SAMPLE] compute_interchange [{/luke-perm/taucmdr/examples/mm/matmult.c} {1<br>22}]",
          "[SAMPLE] compute_interchange [{/luke-perm/taucmdr/examples/mm/matmult.c} {1<br>22}]",
          "[SAMPLE] compute_interchange [{/luke-perm/taucmdr/examples/mm/matmult.c} {1<br>22}]",
          "[SAMPLE] compute_interchange [{/luke-perm/taucmdr/examples/mm/matmult.c} {1<br>22}]",
          "[SAMPLE] compute_interchange [{/luke-perm/taucmdr/examples/mm/matmult.c} {1<br>22}]",
          "[SAMPLE] compute_interchange [{/luke-perm/taucmdr/examples/mm/matmult.c} {1<br>22}]",
          "[SAMPLE] compute_interchange [{/luke-perm/taucmdr/examples/mm/matmult.c} {1<br>22}]"
         ],
         "type": "bar",
         "x": [
          590058,
          605009,
          770057,
          659997,
          569997,
          584989,
          640002
         ],
         "y": [
          "(6, 0, 0)",
          "(5, 0, 0)",
          "(4, 0, 0)",
          "(3, 0, 0)",
          "(2, 0, 0)",
          "(1, 0, 0)",
          "(0, 0, 0)"
         ]
        },
        {
         "hoverinfo": "text",
         "name": "[SAMPLE] multiply [{/luke-perm/taucmdr/examples/mm/matmult.c} {60}]",
         "orientation": "h",
         "text": [
          "[SAMPLE] multiply [{/luke-perm/taucmdr/examples/mm/matmult.c} {60}]",
          "[SAMPLE] multiply [{/luke-perm/taucmdr/examples/mm/matmult.c} {60}]",
          "[SAMPLE] multiply [{/luke-perm/taucmdr/examples/mm/matmult.c} {60}]",
          "[SAMPLE] multiply [{/luke-perm/taucmdr/examples/mm/matmult.c} {60}]",
          "[SAMPLE] multiply [{/luke-perm/taucmdr/examples/mm/matmult.c} {60}]",
          "[SAMPLE] multiply [{/luke-perm/taucmdr/examples/mm/matmult.c} {60}]",
          "[SAMPLE] multiply [{/luke-perm/taucmdr/examples/mm/matmult.c} {60}]"
         ],
         "type": "bar",
         "x": [
          449943,
          469995,
          559937,
          500004,
          425012,
          429996,
          474980
         ],
         "y": [
          "(6, 0, 0)",
          "(5, 0, 0)",
          "(4, 0, 0)",
          "(3, 0, 0)",
          "(2, 0, 0)",
          "(1, 0, 0)",
          "(0, 0, 0)"
         ]
        },
        {
         "hoverinfo": "text",
         "name": ".TAU application  => [CONTEXT] .TAU application  => [SAMPLE] multiply [{/luke-perm/taucmdr/examples/mm/matmult.c} {60}]",
         "orientation": "h",
         "text": [
          ".TAU application  => [CONTEXT] .TAU application  => [SAMPLE] multiply [{/lu<br>ke-perm/taucmdr/examples/mm/matmult.c} {60}]",
          ".TAU application  => [CONTEXT] .TAU application  => [SAMPLE] multiply [{/lu<br>ke-perm/taucmdr/examples/mm/matmult.c} {60}]",
          ".TAU application  => [CONTEXT] .TAU application  => [SAMPLE] multiply [{/lu<br>ke-perm/taucmdr/examples/mm/matmult.c} {60}]",
          ".TAU application  => [CONTEXT] .TAU application  => [SAMPLE] multiply [{/lu<br>ke-perm/taucmdr/examples/mm/matmult.c} {60}]",
          ".TAU application  => [CONTEXT] .TAU application  => [SAMPLE] multiply [{/lu<br>ke-perm/taucmdr/examples/mm/matmult.c} {60}]",
          ".TAU application  => [CONTEXT] .TAU application  => [SAMPLE] multiply [{/lu<br>ke-perm/taucmdr/examples/mm/matmult.c} {60}]",
          ".TAU application  => [CONTEXT] .TAU application  => [SAMPLE] multiply [{/lu<br>ke-perm/taucmdr/examples/mm/matmult.c} {60}]"
         ],
         "type": "bar",
         "x": [
          449943,
          469995,
          559937,
          500004,
          425012,
          429996,
          474980
         ],
         "y": [
          "(6, 0, 0)",
          "(5, 0, 0)",
          "(4, 0, 0)",
          "(3, 0, 0)",
          "(2, 0, 0)",
          "(1, 0, 0)",
          "(0, 0, 0)"
         ]
        },
        {
         "hoverinfo": "text",
         "name": ".TAU application => MPI_Finalize()  ",
         "orientation": "h",
         "text": [
          ".TAU application => MPI_Finalize()  ",
          ".TAU application => MPI_Finalize()  ",
          ".TAU application => MPI_Finalize()  ",
          ".TAU application => MPI_Finalize()  ",
          ".TAU application => MPI_Finalize()  ",
          ".TAU application => MPI_Finalize()  ",
          ".TAU application => MPI_Finalize()  "
         ],
         "type": "bar",
         "x": [
          213977,
          228674,
          4914,
          55926,
          84354,
          194791,
          193905
         ],
         "y": [
          "(6, 0, 0)",
          "(5, 0, 0)",
          "(4, 0, 0)",
          "(3, 0, 0)",
          "(2, 0, 0)",
          "(1, 0, 0)",
          "(0, 0, 0)"
         ]
        },
        {
         "hoverinfo": "text",
         "name": "MPI_Finalize()  ",
         "orientation": "h",
         "text": [
          "MPI_Finalize()  ",
          "MPI_Finalize()  ",
          "MPI_Finalize()  ",
          "MPI_Finalize()  ",
          "MPI_Finalize()  ",
          "MPI_Finalize()  ",
          "MPI_Finalize()  "
         ],
         "type": "bar",
         "x": [
          213977,
          228674,
          4914,
          55926,
          84354,
          194791,
          193905
         ],
         "y": [
          "(6, 0, 0)",
          "(5, 0, 0)",
          "(4, 0, 0)",
          "(3, 0, 0)",
          "(2, 0, 0)",
          "(1, 0, 0)",
          "(0, 0, 0)"
         ]
        },
        {
         "hoverinfo": "text",
         "name": ".TAU application  => [CONTEXT] .TAU application  => [SAMPLE] multiply [{/luke-perm/taucmdr/examples/mm/matmult.c} {59}]",
         "orientation": "h",
         "text": [
          ".TAU application  => [CONTEXT] .TAU application  => [SAMPLE] multiply [{/lu<br>ke-perm/taucmdr/examples/mm/matmult.c} {59}]",
          ".TAU application  => [CONTEXT] .TAU application  => [SAMPLE] multiply [{/lu<br>ke-perm/taucmdr/examples/mm/matmult.c} {59}]",
          ".TAU application  => [CONTEXT] .TAU application  => [SAMPLE] multiply [{/lu<br>ke-perm/taucmdr/examples/mm/matmult.c} {59}]",
          ".TAU application  => [CONTEXT] .TAU application  => [SAMPLE] multiply [{/lu<br>ke-perm/taucmdr/examples/mm/matmult.c} {59}]",
          ".TAU application  => [CONTEXT] .TAU application  => [SAMPLE] multiply [{/lu<br>ke-perm/taucmdr/examples/mm/matmult.c} {59}]",
          ".TAU application  => [CONTEXT] .TAU application  => [SAMPLE] multiply [{/lu<br>ke-perm/taucmdr/examples/mm/matmult.c} {59}]",
          ".TAU application  => [CONTEXT] .TAU application  => [SAMPLE] multiply [{/lu<br>ke-perm/taucmdr/examples/mm/matmult.c} {59}]"
         ],
         "type": "bar",
         "x": [
          139999,
          140000,
          179998,
          105000,
          199996,
          170010,
          155002
         ],
         "y": [
          "(6, 0, 0)",
          "(5, 0, 0)",
          "(4, 0, 0)",
          "(3, 0, 0)",
          "(2, 0, 0)",
          "(1, 0, 0)",
          "(0, 0, 0)"
         ]
        },
        {
         "hoverinfo": "text",
         "name": "[SAMPLE] multiply [{/luke-perm/taucmdr/examples/mm/matmult.c} {59}]",
         "orientation": "h",
         "text": [
          "[SAMPLE] multiply [{/luke-perm/taucmdr/examples/mm/matmult.c} {59}]",
          "[SAMPLE] multiply [{/luke-perm/taucmdr/examples/mm/matmult.c} {59}]",
          "[SAMPLE] multiply [{/luke-perm/taucmdr/examples/mm/matmult.c} {59}]",
          "[SAMPLE] multiply [{/luke-perm/taucmdr/examples/mm/matmult.c} {59}]",
          "[SAMPLE] multiply [{/luke-perm/taucmdr/examples/mm/matmult.c} {59}]",
          "[SAMPLE] multiply [{/luke-perm/taucmdr/examples/mm/matmult.c} {59}]",
          "[SAMPLE] multiply [{/luke-perm/taucmdr/examples/mm/matmult.c} {59}]"
         ],
         "type": "bar",
         "x": [
          139999,
          140000,
          179998,
          105000,
          199996,
          170010,
          155002
         ],
         "y": [
          "(6, 0, 0)",
          "(5, 0, 0)",
          "(4, 0, 0)",
          "(3, 0, 0)",
          "(2, 0, 0)",
          "(1, 0, 0)",
          "(0, 0, 0)"
         ]
        },
        {
         "hoverinfo": "text",
         "name": ".TAU application  => [CONTEXT] .TAU application  => [SAMPLE] compute [{/luke-perm/taucmdr/examples/mm/matmult.c} {99}]",
         "orientation": "h",
         "text": [
          ".TAU application  => [CONTEXT] .TAU application  => [SAMPLE] compute [{/luk<br>e-perm/taucmdr/examples/mm/matmult.c} {99}]",
          ".TAU application  => [CONTEXT] .TAU application  => [SAMPLE] compute [{/luk<br>e-perm/taucmdr/examples/mm/matmult.c} {99}]",
          ".TAU application  => [CONTEXT] .TAU application  => [SAMPLE] compute [{/luk<br>e-perm/taucmdr/examples/mm/matmult.c} {99}]",
          ".TAU application  => [CONTEXT] .TAU application  => [SAMPLE] compute [{/luk<br>e-perm/taucmdr/examples/mm/matmult.c} {99}]",
          ".TAU application  => [CONTEXT] .TAU application  => [SAMPLE] compute [{/luk<br>e-perm/taucmdr/examples/mm/matmult.c} {99}]",
          ".TAU application  => [CONTEXT] .TAU application  => [SAMPLE] compute [{/luk<br>e-perm/taucmdr/examples/mm/matmult.c} {99}]",
          ".TAU application  => [CONTEXT] .TAU application  => [SAMPLE] compute [{/luk<br>e-perm/taucmdr/examples/mm/matmult.c} {99}]"
         ],
         "type": "bar",
         "x": [
          70000,
          45000,
          45000,
          74996,
          64998,
          70001,
          59998
         ],
         "y": [
          "(6, 0, 0)",
          "(5, 0, 0)",
          "(4, 0, 0)",
          "(3, 0, 0)",
          "(2, 0, 0)",
          "(1, 0, 0)",
          "(0, 0, 0)"
         ]
        },
        {
         "hoverinfo": "text",
         "name": "[SAMPLE] compute [{/luke-perm/taucmdr/examples/mm/matmult.c} {99}]",
         "orientation": "h",
         "text": [
          "[SAMPLE] compute [{/luke-perm/taucmdr/examples/mm/matmult.c} {99}]",
          "[SAMPLE] compute [{/luke-perm/taucmdr/examples/mm/matmult.c} {99}]",
          "[SAMPLE] compute [{/luke-perm/taucmdr/examples/mm/matmult.c} {99}]",
          "[SAMPLE] compute [{/luke-perm/taucmdr/examples/mm/matmult.c} {99}]",
          "[SAMPLE] compute [{/luke-perm/taucmdr/examples/mm/matmult.c} {99}]",
          "[SAMPLE] compute [{/luke-perm/taucmdr/examples/mm/matmult.c} {99}]",
          "[SAMPLE] compute [{/luke-perm/taucmdr/examples/mm/matmult.c} {99}]"
         ],
         "type": "bar",
         "x": [
          70000,
          45000,
          45000,
          74996,
          64998,
          70001,
          59998
         ],
         "y": [
          "(6, 0, 0)",
          "(5, 0, 0)",
          "(4, 0, 0)",
          "(3, 0, 0)",
          "(2, 0, 0)",
          "(1, 0, 0)",
          "(0, 0, 0)"
         ]
        },
        {
         "hoverinfo": "text",
         "name": ".TAU application  => [CONTEXT] .TAU application  => [SAMPLE] compute_interchange [{/luke-perm/taucmdr/examples/mm/matmult.c} {120}]",
         "orientation": "h",
         "text": [
          ".TAU application  => [CONTEXT] .TAU application  => [SAMPLE] compute_interc<br>hange [{/luke-perm/taucmdr/examples/mm/matmult.c} {120}]",
          ".TAU application  => [CONTEXT] .TAU application  => [SAMPLE] compute_interc<br>hange [{/luke-perm/taucmdr/examples/mm/matmult.c} {120}]",
          ".TAU application  => [CONTEXT] .TAU application  => [SAMPLE] compute_interc<br>hange [{/luke-perm/taucmdr/examples/mm/matmult.c} {120}]",
          ".TAU application  => [CONTEXT] .TAU application  => [SAMPLE] compute_interc<br>hange [{/luke-perm/taucmdr/examples/mm/matmult.c} {120}]",
          ".TAU application  => [CONTEXT] .TAU application  => [SAMPLE] compute_interc<br>hange [{/luke-perm/taucmdr/examples/mm/matmult.c} {120}]",
          ".TAU application  => [CONTEXT] .TAU application  => [SAMPLE] compute_interc<br>hange [{/luke-perm/taucmdr/examples/mm/matmult.c} {120}]",
          ".TAU application  => [CONTEXT] .TAU application  => [SAMPLE] compute_interc<br>hange [{/luke-perm/taucmdr/examples/mm/matmult.c} {120}]"
         ],
         "type": "bar",
         "x": [
          75000,
          60000,
          49999,
          20000,
          59989,
          55001,
          50000
         ],
         "y": [
          "(6, 0, 0)",
          "(5, 0, 0)",
          "(4, 0, 0)",
          "(3, 0, 0)",
          "(2, 0, 0)",
          "(1, 0, 0)",
          "(0, 0, 0)"
         ]
        },
        {
         "hoverinfo": "text",
         "name": "[SAMPLE] compute_interchange [{/luke-perm/taucmdr/examples/mm/matmult.c} {120}]",
         "orientation": "h",
         "text": [
          "[SAMPLE] compute_interchange [{/luke-perm/taucmdr/examples/mm/matmult.c} {1<br>20}]",
          "[SAMPLE] compute_interchange [{/luke-perm/taucmdr/examples/mm/matmult.c} {1<br>20}]",
          "[SAMPLE] compute_interchange [{/luke-perm/taucmdr/examples/mm/matmult.c} {1<br>20}]",
          "[SAMPLE] compute_interchange [{/luke-perm/taucmdr/examples/mm/matmult.c} {1<br>20}]",
          "[SAMPLE] compute_interchange [{/luke-perm/taucmdr/examples/mm/matmult.c} {1<br>20}]",
          "[SAMPLE] compute_interchange [{/luke-perm/taucmdr/examples/mm/matmult.c} {1<br>20}]",
          "[SAMPLE] compute_interchange [{/luke-perm/taucmdr/examples/mm/matmult.c} {1<br>20}]"
         ],
         "type": "bar",
         "x": [
          75000,
          60000,
          49999,
          20000,
          59989,
          55001,
          50000
         ],
         "y": [
          "(6, 0, 0)",
          "(5, 0, 0)",
          "(4, 0, 0)",
          "(3, 0, 0)",
          "(2, 0, 0)",
          "(1, 0, 0)",
          "(0, 0, 0)"
         ]
        },
        {
         "hoverinfo": "text",
         "name": ".TAU application => MPI_Init()  ",
         "orientation": "h",
         "text": [
          ".TAU application => MPI_Init()  ",
          ".TAU application => MPI_Init()  ",
          ".TAU application => MPI_Init()  ",
          ".TAU application => MPI_Init()  ",
          ".TAU application => MPI_Init()  ",
          ".TAU application => MPI_Init()  ",
          ".TAU application => MPI_Init()  "
         ],
         "type": "bar",
         "x": [
          25701,
          25791,
          25795,
          25613,
          25726,
          25760,
          25673
         ],
         "y": [
          "(6, 0, 0)",
          "(5, 0, 0)",
          "(4, 0, 0)",
          "(3, 0, 0)",
          "(2, 0, 0)",
          "(1, 0, 0)",
          "(0, 0, 0)"
         ]
        },
        {
         "hoverinfo": "text",
         "name": "MPI_Init()  ",
         "orientation": "h",
         "text": [
          "MPI_Init()  ",
          "MPI_Init()  ",
          "MPI_Init()  ",
          "MPI_Init()  ",
          "MPI_Init()  ",
          "MPI_Init()  ",
          "MPI_Init()  "
         ],
         "type": "bar",
         "x": [
          25701,
          25791,
          25795,
          25613,
          25726,
          25760,
          25673
         ],
         "y": [
          "(6, 0, 0)",
          "(5, 0, 0)",
          "(4, 0, 0)",
          "(3, 0, 0)",
          "(2, 0, 0)",
          "(1, 0, 0)",
          "(0, 0, 0)"
         ]
        },
        {
         "hoverinfo": "text",
         "name": ".TAU application  => [CONTEXT] .TAU application  => [SAMPLE] sysmalloc [{malloc.c} {0}]",
         "orientation": "h",
         "text": [
          ".TAU application  => [CONTEXT] .TAU application  => [SAMPLE] sysmalloc [{ma<br>lloc.c} {0}]",
          ".TAU application  => [CONTEXT] .TAU application  => [SAMPLE] sysmalloc [{ma<br>lloc.c} {0}]",
          ".TAU application  => [CONTEXT] .TAU application  => [SAMPLE] sysmalloc [{ma<br>lloc.c} {0}]",
          ".TAU application  => [CONTEXT] .TAU application  => [SAMPLE] sysmalloc [{ma<br>lloc.c} {0}]",
          ".TAU application  => [CONTEXT] .TAU application  => [SAMPLE] sysmalloc [{ma<br>lloc.c} {0}]",
          ".TAU application  => [CONTEXT] .TAU application  => [SAMPLE] sysmalloc [{ma<br>lloc.c} {0}]",
          ".TAU application  => [CONTEXT] .TAU application  => [SAMPLE] sysmalloc [{ma<br>lloc.c} {0}]"
         ],
         "type": "bar",
         "x": [
          0,
          0,
          0,
          0,
          5022,
          0,
          5017
         ],
         "y": [
          "(6, 0, 0)",
          "(5, 0, 0)",
          "(4, 0, 0)",
          "(3, 0, 0)",
          "(2, 0, 0)",
          "(1, 0, 0)",
          "(0, 0, 0)"
         ]
        },
        {
         "hoverinfo": "text",
         "name": "[SAMPLE] sysmalloc [{malloc.c} {0}]",
         "orientation": "h",
         "text": [
          "[SAMPLE] sysmalloc [{malloc.c} {0}]",
          "[SAMPLE] sysmalloc [{malloc.c} {0}]",
          "[SAMPLE] sysmalloc [{malloc.c} {0}]",
          "[SAMPLE] sysmalloc [{malloc.c} {0}]",
          "[SAMPLE] sysmalloc [{malloc.c} {0}]",
          "[SAMPLE] sysmalloc [{malloc.c} {0}]",
          "[SAMPLE] sysmalloc [{malloc.c} {0}]"
         ],
         "type": "bar",
         "x": [
          0,
          0,
          0,
          0,
          5022,
          0,
          5017
         ],
         "y": [
          "(6, 0, 0)",
          "(5, 0, 0)",
          "(4, 0, 0)",
          "(3, 0, 0)",
          "(2, 0, 0)",
          "(1, 0, 0)",
          "(0, 0, 0)"
         ]
        },
        {
         "hoverinfo": "text",
         "name": "[SAMPLE] initialize [{/luke-perm/taucmdr/examples/mm/matmult_initialize.c} {12}]",
         "orientation": "h",
         "text": [
          "[SAMPLE] initialize [{/luke-perm/taucmdr/examples/mm/matmult_initialize.c} <br>{12}]",
          "[SAMPLE] initialize [{/luke-perm/taucmdr/examples/mm/matmult_initialize.c} <br>{12}]",
          "[SAMPLE] initialize [{/luke-perm/taucmdr/examples/mm/matmult_initialize.c} <br>{12}]",
          "[SAMPLE] initialize [{/luke-perm/taucmdr/examples/mm/matmult_initialize.c} <br>{12}]",
          "[SAMPLE] initialize [{/luke-perm/taucmdr/examples/mm/matmult_initialize.c} <br>{12}]",
          "[SAMPLE] initialize [{/luke-perm/taucmdr/examples/mm/matmult_initialize.c} <br>{12}]",
          "[SAMPLE] initialize [{/luke-perm/taucmdr/examples/mm/matmult_initialize.c} <br>{12}]"
         ],
         "type": "bar",
         "x": [
          0,
          0,
          0,
          0,
          0,
          4985,
          4990
         ],
         "y": [
          "(6, 0, 0)",
          "(5, 0, 0)",
          "(4, 0, 0)",
          "(3, 0, 0)",
          "(2, 0, 0)",
          "(1, 0, 0)",
          "(0, 0, 0)"
         ]
        },
        {
         "hoverinfo": "text",
         "name": ".TAU application  => [CONTEXT] .TAU application  => [SAMPLE] initialize [{/luke-perm/taucmdr/examples/mm/matmult_initialize.c} {12}]",
         "orientation": "h",
         "text": [
          ".TAU application  => [CONTEXT] .TAU application  => [SAMPLE] initialize [{/<br>luke-perm/taucmdr/examples/mm/matmult_initialize.c} {12}]",
          ".TAU application  => [CONTEXT] .TAU application  => [SAMPLE] initialize [{/<br>luke-perm/taucmdr/examples/mm/matmult_initialize.c} {12}]",
          ".TAU application  => [CONTEXT] .TAU application  => [SAMPLE] initialize [{/<br>luke-perm/taucmdr/examples/mm/matmult_initialize.c} {12}]",
          ".TAU application  => [CONTEXT] .TAU application  => [SAMPLE] initialize [{/<br>luke-perm/taucmdr/examples/mm/matmult_initialize.c} {12}]",
          ".TAU application  => [CONTEXT] .TAU application  => [SAMPLE] initialize [{/<br>luke-perm/taucmdr/examples/mm/matmult_initialize.c} {12}]",
          ".TAU application  => [CONTEXT] .TAU application  => [SAMPLE] initialize [{/<br>luke-perm/taucmdr/examples/mm/matmult_initialize.c} {12}]",
          ".TAU application  => [CONTEXT] .TAU application  => [SAMPLE] initialize [{/<br>luke-perm/taucmdr/examples/mm/matmult_initialize.c} {12}]"
         ],
         "type": "bar",
         "x": [
          0,
          0,
          0,
          0,
          0,
          4985,
          4990
         ],
         "y": [
          "(6, 0, 0)",
          "(5, 0, 0)",
          "(4, 0, 0)",
          "(3, 0, 0)",
          "(2, 0, 0)",
          "(1, 0, 0)",
          "(0, 0, 0)"
         ]
        },
        {
         "hoverinfo": "text",
         "name": "[CONTEXT] .TAU application",
         "orientation": "h",
         "text": [
          "[CONTEXT] .TAU application",
          "[CONTEXT] .TAU application",
          "[CONTEXT] .TAU application",
          "[CONTEXT] .TAU application",
          "[CONTEXT] .TAU application",
          "[CONTEXT] .TAU application",
          "[CONTEXT] .TAU application"
         ],
         "type": "bar",
         "x": [
          0,
          0,
          0,
          0,
          0,
          0,
          0
         ],
         "y": [
          "(6, 0, 0)",
          "(5, 0, 0)",
          "(4, 0, 0)",
          "(3, 0, 0)",
          "(2, 0, 0)",
          "(1, 0, 0)",
          "(0, 0, 0)"
         ]
        },
        {
         "hoverinfo": "text",
         "name": ".TAU application  => [CONTEXT] .TAU application",
         "orientation": "h",
         "text": [
          ".TAU application  => [CONTEXT] .TAU application",
          ".TAU application  => [CONTEXT] .TAU application",
          ".TAU application  => [CONTEXT] .TAU application",
          ".TAU application  => [CONTEXT] .TAU application",
          ".TAU application  => [CONTEXT] .TAU application",
          ".TAU application  => [CONTEXT] .TAU application",
          ".TAU application  => [CONTEXT] .TAU application"
         ],
         "type": "bar",
         "x": [
          0,
          0,
          0,
          0,
          0,
          0,
          0
         ],
         "y": [
          "(6, 0, 0)",
          "(5, 0, 0)",
          "(4, 0, 0)",
          "(3, 0, 0)",
          "(2, 0, 0)",
          "(1, 0, 0)",
          "(0, 0, 0)"
         ]
        },
        {
         "hoverinfo": "text",
         "name": ".TAU application  => [CONTEXT] .TAU application  => [SAMPLE] _int_malloc [{malloc.c} {0}]",
         "orientation": "h",
         "text": [
          ".TAU application  => [CONTEXT] .TAU application  => [SAMPLE] _int_malloc [{<br>malloc.c} {0}]",
          ".TAU application  => [CONTEXT] .TAU application  => [SAMPLE] _int_malloc [{<br>malloc.c} {0}]",
          ".TAU application  => [CONTEXT] .TAU application  => [SAMPLE] _int_malloc [{<br>malloc.c} {0}]",
          ".TAU application  => [CONTEXT] .TAU application  => [SAMPLE] _int_malloc [{<br>malloc.c} {0}]",
          ".TAU application  => [CONTEXT] .TAU application  => [SAMPLE] _int_malloc [{<br>malloc.c} {0}]",
          ".TAU application  => [CONTEXT] .TAU application  => [SAMPLE] _int_malloc [{<br>malloc.c} {0}]",
          ".TAU application  => [CONTEXT] .TAU application  => [SAMPLE] _int_malloc [{<br>malloc.c} {0}]"
         ],
         "type": "bar",
         "x": [
          5019,
          5021,
          5018,
          5022,
          0,
          5022,
          0
         ],
         "y": [
          "(6, 0, 0)",
          "(5, 0, 0)",
          "(4, 0, 0)",
          "(3, 0, 0)",
          "(2, 0, 0)",
          "(1, 0, 0)",
          "(0, 0, 0)"
         ]
        },
        {
         "hoverinfo": "text",
         "name": ".TAU application  => [CONTEXT] .TAU application  => [SAMPLE] compute_interchange [{/luke-perm/taucmdr/examples/mm/matmult.c} {119}]",
         "orientation": "h",
         "text": [
          ".TAU application  => [CONTEXT] .TAU application  => [SAMPLE] compute_interc<br>hange [{/luke-perm/taucmdr/examples/mm/matmult.c} {119}]",
          ".TAU application  => [CONTEXT] .TAU application  => [SAMPLE] compute_interc<br>hange [{/luke-perm/taucmdr/examples/mm/matmult.c} {119}]",
          ".TAU application  => [CONTEXT] .TAU application  => [SAMPLE] compute_interc<br>hange [{/luke-perm/taucmdr/examples/mm/matmult.c} {119}]",
          ".TAU application  => [CONTEXT] .TAU application  => [SAMPLE] compute_interc<br>hange [{/luke-perm/taucmdr/examples/mm/matmult.c} {119}]",
          ".TAU application  => [CONTEXT] .TAU application  => [SAMPLE] compute_interc<br>hange [{/luke-perm/taucmdr/examples/mm/matmult.c} {119}]",
          ".TAU application  => [CONTEXT] .TAU application  => [SAMPLE] compute_interc<br>hange [{/luke-perm/taucmdr/examples/mm/matmult.c} {119}]",
          ".TAU application  => [CONTEXT] .TAU application  => [SAMPLE] compute_interc<br>hange [{/luke-perm/taucmdr/examples/mm/matmult.c} {119}]"
         ],
         "type": "bar",
         "x": [
          0,
          0,
          5000,
          5000,
          0,
          0,
          0
         ],
         "y": [
          "(6, 0, 0)",
          "(5, 0, 0)",
          "(4, 0, 0)",
          "(3, 0, 0)",
          "(2, 0, 0)",
          "(1, 0, 0)",
          "(0, 0, 0)"
         ]
        },
        {
         "hoverinfo": "text",
         "name": ".TAU application  => [CONTEXT] .TAU application  => [SAMPLE] initialize [{/luke-perm/taucmdr/examples/mm/matmult_initialize.c} {11}]",
         "orientation": "h",
         "text": [
          ".TAU application  => [CONTEXT] .TAU application  => [SAMPLE] initialize [{/<br>luke-perm/taucmdr/examples/mm/matmult_initialize.c} {11}]",
          ".TAU application  => [CONTEXT] .TAU application  => [SAMPLE] initialize [{/<br>luke-perm/taucmdr/examples/mm/matmult_initialize.c} {11}]",
          ".TAU application  => [CONTEXT] .TAU application  => [SAMPLE] initialize [{/<br>luke-perm/taucmdr/examples/mm/matmult_initialize.c} {11}]",
          ".TAU application  => [CONTEXT] .TAU application  => [SAMPLE] initialize [{/<br>luke-perm/taucmdr/examples/mm/matmult_initialize.c} {11}]",
          ".TAU application  => [CONTEXT] .TAU application  => [SAMPLE] initialize [{/<br>luke-perm/taucmdr/examples/mm/matmult_initialize.c} {11}]",
          ".TAU application  => [CONTEXT] .TAU application  => [SAMPLE] initialize [{/<br>luke-perm/taucmdr/examples/mm/matmult_initialize.c} {11}]",
          ".TAU application  => [CONTEXT] .TAU application  => [SAMPLE] initialize [{/<br>luke-perm/taucmdr/examples/mm/matmult_initialize.c} {11}]"
         ],
         "type": "bar",
         "x": [
          4989,
          4985,
          4989,
          4985,
          4986,
          0,
          0
         ],
         "y": [
          "(6, 0, 0)",
          "(5, 0, 0)",
          "(4, 0, 0)",
          "(3, 0, 0)",
          "(2, 0, 0)",
          "(1, 0, 0)",
          "(0, 0, 0)"
         ]
        },
        {
         "hoverinfo": "text",
         "name": "[SAMPLE] _int_malloc [{malloc.c} {0}]",
         "orientation": "h",
         "text": [
          "[SAMPLE] _int_malloc [{malloc.c} {0}]",
          "[SAMPLE] _int_malloc [{malloc.c} {0}]",
          "[SAMPLE] _int_malloc [{malloc.c} {0}]",
          "[SAMPLE] _int_malloc [{malloc.c} {0}]",
          "[SAMPLE] _int_malloc [{malloc.c} {0}]",
          "[SAMPLE] _int_malloc [{malloc.c} {0}]",
          "[SAMPLE] _int_malloc [{malloc.c} {0}]"
         ],
         "type": "bar",
         "x": [
          5019,
          5021,
          5018,
          5022,
          0,
          5022,
          0
         ],
         "y": [
          "(6, 0, 0)",
          "(5, 0, 0)",
          "(4, 0, 0)",
          "(3, 0, 0)",
          "(2, 0, 0)",
          "(1, 0, 0)",
          "(0, 0, 0)"
         ]
        },
        {
         "hoverinfo": "text",
         "name": "[SAMPLE] compute_interchange [{/luke-perm/taucmdr/examples/mm/matmult.c} {119}]",
         "orientation": "h",
         "text": [
          "[SAMPLE] compute_interchange [{/luke-perm/taucmdr/examples/mm/matmult.c} {1<br>19}]",
          "[SAMPLE] compute_interchange [{/luke-perm/taucmdr/examples/mm/matmult.c} {1<br>19}]",
          "[SAMPLE] compute_interchange [{/luke-perm/taucmdr/examples/mm/matmult.c} {1<br>19}]",
          "[SAMPLE] compute_interchange [{/luke-perm/taucmdr/examples/mm/matmult.c} {1<br>19}]",
          "[SAMPLE] compute_interchange [{/luke-perm/taucmdr/examples/mm/matmult.c} {1<br>19}]",
          "[SAMPLE] compute_interchange [{/luke-perm/taucmdr/examples/mm/matmult.c} {1<br>19}]",
          "[SAMPLE] compute_interchange [{/luke-perm/taucmdr/examples/mm/matmult.c} {1<br>19}]"
         ],
         "type": "bar",
         "x": [
          0,
          0,
          5000,
          5000,
          0,
          0,
          0
         ],
         "y": [
          "(6, 0, 0)",
          "(5, 0, 0)",
          "(4, 0, 0)",
          "(3, 0, 0)",
          "(2, 0, 0)",
          "(1, 0, 0)",
          "(0, 0, 0)"
         ]
        },
        {
         "hoverinfo": "text",
         "name": "[SAMPLE] initialize [{/luke-perm/taucmdr/examples/mm/matmult_initialize.c} {11}]",
         "orientation": "h",
         "text": [
          "[SAMPLE] initialize [{/luke-perm/taucmdr/examples/mm/matmult_initialize.c} <br>{11}]",
          "[SAMPLE] initialize [{/luke-perm/taucmdr/examples/mm/matmult_initialize.c} <br>{11}]",
          "[SAMPLE] initialize [{/luke-perm/taucmdr/examples/mm/matmult_initialize.c} <br>{11}]",
          "[SAMPLE] initialize [{/luke-perm/taucmdr/examples/mm/matmult_initialize.c} <br>{11}]",
          "[SAMPLE] initialize [{/luke-perm/taucmdr/examples/mm/matmult_initialize.c} <br>{11}]",
          "[SAMPLE] initialize [{/luke-perm/taucmdr/examples/mm/matmult_initialize.c} <br>{11}]",
          "[SAMPLE] initialize [{/luke-perm/taucmdr/examples/mm/matmult_initialize.c} <br>{11}]"
         ],
         "type": "bar",
         "x": [
          4989,
          4985,
          4989,
          4985,
          4986,
          0,
          0
         ],
         "y": [
          "(6, 0, 0)",
          "(5, 0, 0)",
          "(4, 0, 0)",
          "(3, 0, 0)",
          "(2, 0, 0)",
          "(1, 0, 0)",
          "(0, 0, 0)"
         ]
        },
        {
         "hoverinfo": "text",
         "marker": {
          "color": "#333333"
         },
         "name": "I",
         "orientation": "h",
         "text": [
          "I",
          "I",
          "I",
          "I",
          "I",
          "I",
          "I"
         ],
         "type": "bar",
         "x": [
          7759048,
          7713769,
          7970503,
          7920807,
          7879396,
          7799709,
          7798625
         ],
         "y": [
          "(6, 0, 0)",
          "(5, 0, 0)",
          "(4, 0, 0)",
          "(3, 0, 0)",
          "(2, 0, 0)",
          "(1, 0, 0)",
          "(0, 0, 0)"
         ]
        }
       ],
       "layout": {
        "autosize": true,
        "barmode": "stack",
        "hovermode": "closest",
        "margin": {
         "b": 0,
         "l": 0,
         "r": 0,
         "t": 10
        },
        "showlegend": false,
        "template": {
         "data": {
          "bar": [
           {
            "error_x": {
             "color": "#2a3f5f"
            },
            "error_y": {
             "color": "#2a3f5f"
            },
            "marker": {
             "line": {
              "color": "#E5ECF6",
              "width": 0.5
             }
            },
            "type": "bar"
           }
          ],
          "barpolar": [
           {
            "marker": {
             "line": {
              "color": "#E5ECF6",
              "width": 0.5
             }
            },
            "type": "barpolar"
           }
          ],
          "carpet": [
           {
            "aaxis": {
             "endlinecolor": "#2a3f5f",
             "gridcolor": "white",
             "linecolor": "white",
             "minorgridcolor": "white",
             "startlinecolor": "#2a3f5f"
            },
            "baxis": {
             "endlinecolor": "#2a3f5f",
             "gridcolor": "white",
             "linecolor": "white",
             "minorgridcolor": "white",
             "startlinecolor": "#2a3f5f"
            },
            "type": "carpet"
           }
          ],
          "choropleth": [
           {
            "colorbar": {
             "outlinewidth": 0,
             "ticks": ""
            },
            "type": "choropleth"
           }
          ],
          "contour": [
           {
            "colorbar": {
             "outlinewidth": 0,
             "ticks": ""
            },
            "colorscale": [
             [
              0,
              "#0d0887"
             ],
             [
              0.1111111111111111,
              "#46039f"
             ],
             [
              0.2222222222222222,
              "#7201a8"
             ],
             [
              0.3333333333333333,
              "#9c179e"
             ],
             [
              0.4444444444444444,
              "#bd3786"
             ],
             [
              0.5555555555555556,
              "#d8576b"
             ],
             [
              0.6666666666666666,
              "#ed7953"
             ],
             [
              0.7777777777777778,
              "#fb9f3a"
             ],
             [
              0.8888888888888888,
              "#fdca26"
             ],
             [
              1,
              "#f0f921"
             ]
            ],
            "type": "contour"
           }
          ],
          "contourcarpet": [
           {
            "colorbar": {
             "outlinewidth": 0,
             "ticks": ""
            },
            "type": "contourcarpet"
           }
          ],
          "heatmap": [
           {
            "colorbar": {
             "outlinewidth": 0,
             "ticks": ""
            },
            "colorscale": [
             [
              0,
              "#0d0887"
             ],
             [
              0.1111111111111111,
              "#46039f"
             ],
             [
              0.2222222222222222,
              "#7201a8"
             ],
             [
              0.3333333333333333,
              "#9c179e"
             ],
             [
              0.4444444444444444,
              "#bd3786"
             ],
             [
              0.5555555555555556,
              "#d8576b"
             ],
             [
              0.6666666666666666,
              "#ed7953"
             ],
             [
              0.7777777777777778,
              "#fb9f3a"
             ],
             [
              0.8888888888888888,
              "#fdca26"
             ],
             [
              1,
              "#f0f921"
             ]
            ],
            "type": "heatmap"
           }
          ],
          "heatmapgl": [
           {
            "colorbar": {
             "outlinewidth": 0,
             "ticks": ""
            },
            "colorscale": [
             [
              0,
              "#0d0887"
             ],
             [
              0.1111111111111111,
              "#46039f"
             ],
             [
              0.2222222222222222,
              "#7201a8"
             ],
             [
              0.3333333333333333,
              "#9c179e"
             ],
             [
              0.4444444444444444,
              "#bd3786"
             ],
             [
              0.5555555555555556,
              "#d8576b"
             ],
             [
              0.6666666666666666,
              "#ed7953"
             ],
             [
              0.7777777777777778,
              "#fb9f3a"
             ],
             [
              0.8888888888888888,
              "#fdca26"
             ],
             [
              1,
              "#f0f921"
             ]
            ],
            "type": "heatmapgl"
           }
          ],
          "histogram": [
           {
            "marker": {
             "colorbar": {
              "outlinewidth": 0,
              "ticks": ""
             }
            },
            "type": "histogram"
           }
          ],
          "histogram2d": [
           {
            "colorbar": {
             "outlinewidth": 0,
             "ticks": ""
            },
            "colorscale": [
             [
              0,
              "#0d0887"
             ],
             [
              0.1111111111111111,
              "#46039f"
             ],
             [
              0.2222222222222222,
              "#7201a8"
             ],
             [
              0.3333333333333333,
              "#9c179e"
             ],
             [
              0.4444444444444444,
              "#bd3786"
             ],
             [
              0.5555555555555556,
              "#d8576b"
             ],
             [
              0.6666666666666666,
              "#ed7953"
             ],
             [
              0.7777777777777778,
              "#fb9f3a"
             ],
             [
              0.8888888888888888,
              "#fdca26"
             ],
             [
              1,
              "#f0f921"
             ]
            ],
            "type": "histogram2d"
           }
          ],
          "histogram2dcontour": [
           {
            "colorbar": {
             "outlinewidth": 0,
             "ticks": ""
            },
            "colorscale": [
             [
              0,
              "#0d0887"
             ],
             [
              0.1111111111111111,
              "#46039f"
             ],
             [
              0.2222222222222222,
              "#7201a8"
             ],
             [
              0.3333333333333333,
              "#9c179e"
             ],
             [
              0.4444444444444444,
              "#bd3786"
             ],
             [
              0.5555555555555556,
              "#d8576b"
             ],
             [
              0.6666666666666666,
              "#ed7953"
             ],
             [
              0.7777777777777778,
              "#fb9f3a"
             ],
             [
              0.8888888888888888,
              "#fdca26"
             ],
             [
              1,
              "#f0f921"
             ]
            ],
            "type": "histogram2dcontour"
           }
          ],
          "mesh3d": [
           {
            "colorbar": {
             "outlinewidth": 0,
             "ticks": ""
            },
            "type": "mesh3d"
           }
          ],
          "parcoords": [
           {
            "line": {
             "colorbar": {
              "outlinewidth": 0,
              "ticks": ""
             }
            },
            "type": "parcoords"
           }
          ],
          "pie": [
           {
            "automargin": true,
            "type": "pie"
           }
          ],
          "scatter": [
           {
            "marker": {
             "colorbar": {
              "outlinewidth": 0,
              "ticks": ""
             }
            },
            "type": "scatter"
           }
          ],
          "scatter3d": [
           {
            "line": {
             "colorbar": {
              "outlinewidth": 0,
              "ticks": ""
             }
            },
            "marker": {
             "colorbar": {
              "outlinewidth": 0,
              "ticks": ""
             }
            },
            "type": "scatter3d"
           }
          ],
          "scattercarpet": [
           {
            "marker": {
             "colorbar": {
              "outlinewidth": 0,
              "ticks": ""
             }
            },
            "type": "scattercarpet"
           }
          ],
          "scattergeo": [
           {
            "marker": {
             "colorbar": {
              "outlinewidth": 0,
              "ticks": ""
             }
            },
            "type": "scattergeo"
           }
          ],
          "scattergl": [
           {
            "marker": {
             "colorbar": {
              "outlinewidth": 0,
              "ticks": ""
             }
            },
            "type": "scattergl"
           }
          ],
          "scattermapbox": [
           {
            "marker": {
             "colorbar": {
              "outlinewidth": 0,
              "ticks": ""
             }
            },
            "type": "scattermapbox"
           }
          ],
          "scatterpolar": [
           {
            "marker": {
             "colorbar": {
              "outlinewidth": 0,
              "ticks": ""
             }
            },
            "type": "scatterpolar"
           }
          ],
          "scatterpolargl": [
           {
            "marker": {
             "colorbar": {
              "outlinewidth": 0,
              "ticks": ""
             }
            },
            "type": "scatterpolargl"
           }
          ],
          "scatterternary": [
           {
            "marker": {
             "colorbar": {
              "outlinewidth": 0,
              "ticks": ""
             }
            },
            "type": "scatterternary"
           }
          ],
          "surface": [
           {
            "colorbar": {
             "outlinewidth": 0,
             "ticks": ""
            },
            "colorscale": [
             [
              0,
              "#0d0887"
             ],
             [
              0.1111111111111111,
              "#46039f"
             ],
             [
              0.2222222222222222,
              "#7201a8"
             ],
             [
              0.3333333333333333,
              "#9c179e"
             ],
             [
              0.4444444444444444,
              "#bd3786"
             ],
             [
              0.5555555555555556,
              "#d8576b"
             ],
             [
              0.6666666666666666,
              "#ed7953"
             ],
             [
              0.7777777777777778,
              "#fb9f3a"
             ],
             [
              0.8888888888888888,
              "#fdca26"
             ],
             [
              1,
              "#f0f921"
             ]
            ],
            "type": "surface"
           }
          ],
          "table": [
           {
            "cells": {
             "fill": {
              "color": "#EBF0F8"
             },
             "line": {
              "color": "white"
             }
            },
            "header": {
             "fill": {
              "color": "#C8D4E3"
             },
             "line": {
              "color": "white"
             }
            },
            "type": "table"
           }
          ]
         },
         "layout": {
          "annotationdefaults": {
           "arrowcolor": "#2a3f5f",
           "arrowhead": 0,
           "arrowwidth": 1
          },
          "coloraxis": {
           "colorbar": {
            "outlinewidth": 0,
            "ticks": ""
           }
          },
          "colorscale": {
           "diverging": [
            [
             0,
             "#8e0152"
            ],
            [
             0.1,
             "#c51b7d"
            ],
            [
             0.2,
             "#de77ae"
            ],
            [
             0.3,
             "#f1b6da"
            ],
            [
             0.4,
             "#fde0ef"
            ],
            [
             0.5,
             "#f7f7f7"
            ],
            [
             0.6,
             "#e6f5d0"
            ],
            [
             0.7,
             "#b8e186"
            ],
            [
             0.8,
             "#7fbc41"
            ],
            [
             0.9,
             "#4d9221"
            ],
            [
             1,
             "#276419"
            ]
           ],
           "sequential": [
            [
             0,
             "#0d0887"
            ],
            [
             0.1111111111111111,
             "#46039f"
            ],
            [
             0.2222222222222222,
             "#7201a8"
            ],
            [
             0.3333333333333333,
             "#9c179e"
            ],
            [
             0.4444444444444444,
             "#bd3786"
            ],
            [
             0.5555555555555556,
             "#d8576b"
            ],
            [
             0.6666666666666666,
             "#ed7953"
            ],
            [
             0.7777777777777778,
             "#fb9f3a"
            ],
            [
             0.8888888888888888,
             "#fdca26"
            ],
            [
             1,
             "#f0f921"
            ]
           ],
           "sequentialminus": [
            [
             0,
             "#0d0887"
            ],
            [
             0.1111111111111111,
             "#46039f"
            ],
            [
             0.2222222222222222,
             "#7201a8"
            ],
            [
             0.3333333333333333,
             "#9c179e"
            ],
            [
             0.4444444444444444,
             "#bd3786"
            ],
            [
             0.5555555555555556,
             "#d8576b"
            ],
            [
             0.6666666666666666,
             "#ed7953"
            ],
            [
             0.7777777777777778,
             "#fb9f3a"
            ],
            [
             0.8888888888888888,
             "#fdca26"
            ],
            [
             1,
             "#f0f921"
            ]
           ]
          },
          "colorway": [
           "#636efa",
           "#EF553B",
           "#00cc96",
           "#ab63fa",
           "#FFA15A",
           "#19d3f3",
           "#FF6692",
           "#B6E880",
           "#FF97FF",
           "#FECB52"
          ],
          "font": {
           "color": "#2a3f5f"
          },
          "geo": {
           "bgcolor": "white",
           "lakecolor": "white",
           "landcolor": "#E5ECF6",
           "showlakes": true,
           "showland": true,
           "subunitcolor": "white"
          },
          "hoverlabel": {
           "align": "left"
          },
          "hovermode": "closest",
          "mapbox": {
           "style": "light"
          },
          "paper_bgcolor": "white",
          "plot_bgcolor": "#E5ECF6",
          "polar": {
           "angularaxis": {
            "gridcolor": "white",
            "linecolor": "white",
            "ticks": ""
           },
           "bgcolor": "#E5ECF6",
           "radialaxis": {
            "gridcolor": "white",
            "linecolor": "white",
            "ticks": ""
           }
          },
          "scene": {
           "xaxis": {
            "backgroundcolor": "#E5ECF6",
            "gridcolor": "white",
            "gridwidth": 2,
            "linecolor": "white",
            "showbackground": true,
            "ticks": "",
            "zerolinecolor": "white"
           },
           "yaxis": {
            "backgroundcolor": "#E5ECF6",
            "gridcolor": "white",
            "gridwidth": 2,
            "linecolor": "white",
            "showbackground": true,
            "ticks": "",
            "zerolinecolor": "white"
           },
           "zaxis": {
            "backgroundcolor": "#E5ECF6",
            "gridcolor": "white",
            "gridwidth": 2,
            "linecolor": "white",
            "showbackground": true,
            "ticks": "",
            "zerolinecolor": "white"
           }
          },
          "shapedefaults": {
           "line": {
            "color": "#2a3f5f"
           }
          },
          "ternary": {
           "aaxis": {
            "gridcolor": "white",
            "linecolor": "white",
            "ticks": ""
           },
           "baxis": {
            "gridcolor": "white",
            "linecolor": "white",
            "ticks": ""
           },
           "bgcolor": "#E5ECF6",
           "caxis": {
            "gridcolor": "white",
            "linecolor": "white",
            "ticks": ""
           }
          },
          "title": {
           "x": 0.05
          },
          "xaxis": {
           "automargin": true,
           "gridcolor": "white",
           "linecolor": "white",
           "ticks": "",
           "title": {
            "standoff": 15
           },
           "zerolinecolor": "white",
           "zerolinewidth": 2
          },
          "yaxis": {
           "automargin": true,
           "gridcolor": "white",
           "linecolor": "white",
           "ticks": "",
           "title": {
            "standoff": 15
           },
           "zerolinecolor": "white",
           "zerolinewidth": 2
          }
         }
        },
        "xaxis": {
         "autorange": true,
         "range": [
          0,
          16780006.315789472
         ],
         "type": "linear"
        },
        "yaxis": {
         "autorange": true,
         "range": [
          -0.5,
          6.5
         ],
         "type": "category"
        }
       }
      },
      "image/png": "[encoded data removed]",
      "text/html": [
       "<div>\n",
       "        \n",
       "        \n",
       "            <div id=\"a23bdc9d-7911-4c08-867f-e0f49a4d54a4\" class=\"plotly-graph-div\" style=\"height:525px; width:100%;\"></div>\n",
       "            <script type=\"text/javascript\">\n",
       "                require([\"plotly\"], function(Plotly) {\n",
       "                    window.PLOTLYENV=window.PLOTLYENV || {};\n",
       "                    \n",
       "                if (document.getElementById(\"a23bdc9d-7911-4c08-867f-e0f49a4d54a4\")) {\n",
       "                    Plotly.newPlot(\n",
       "                        'a23bdc9d-7911-4c08-867f-e0f49a4d54a4',\n",
       "                        [{\"hoverinfo\": \"text\", \"name\": \".TAU application\", \"orientation\": \"h\", \"text\": [\".TAU application\", \".TAU application\", \".TAU application\", \".TAU application\", \".TAU application\", \".TAU application\", \".TAU application\"], \"type\": \"bar\", \"x\": [2459688.0, 2444839.0, 2669087.0, 2617729.0, 2589264.0, 2478607.0, 2479469.0], \"y\": [\"(6, 0, 0)\", \"(5, 0, 0)\", \"(4, 0, 0)\", \"(3, 0, 0)\", \"(2, 0, 0)\", \"(1, 0, 0)\", \"(0, 0, 0)\"]}, {\"hoverinfo\": \"text\", \"name\": \"[SAMPLE] compute [{/luke-perm/taucmdr/examples/mm/matmult.c} {101}]\", \"orientation\": \"h\", \"text\": [\"[SAMPLE] compute [{/luke-perm/taucmdr/examples/mm/matmult.c} {101}]\", \"[SAMPLE] compute [{/luke-perm/taucmdr/examples/mm/matmult.c} {101}]\", \"[SAMPLE] compute [{/luke-perm/taucmdr/examples/mm/matmult.c} {101}]\", \"[SAMPLE] compute [{/luke-perm/taucmdr/examples/mm/matmult.c} {101}]\", \"[SAMPLE] compute [{/luke-perm/taucmdr/examples/mm/matmult.c} {101}]\", \"[SAMPLE] compute [{/luke-perm/taucmdr/examples/mm/matmult.c} {101}]\", \"[SAMPLE] compute [{/luke-perm/taucmdr/examples/mm/matmult.c} {101}]\"], \"type\": \"bar\", \"x\": [1074994.0, 1049990.0, 1000001.0, 1194996.0, 1204986.0, 1119996.0, 1050011.0], \"y\": [\"(6, 0, 0)\", \"(5, 0, 0)\", \"(4, 0, 0)\", \"(3, 0, 0)\", \"(2, 0, 0)\", \"(1, 0, 0)\", \"(0, 0, 0)\"]}, {\"hoverinfo\": \"text\", \"name\": \".TAU application  => [CONTEXT] .TAU application  => [SAMPLE] compute [{/luke-perm/taucmdr/examples/mm/matmult.c} {101}]\", \"orientation\": \"h\", \"text\": [\".TAU application  => [CONTEXT] .TAU application  => [SAMPLE] compute [{/luk<br>e-perm/taucmdr/examples/mm/matmult.c} {101}]\", \".TAU application  => [CONTEXT] .TAU application  => [SAMPLE] compute [{/luk<br>e-perm/taucmdr/examples/mm/matmult.c} {101}]\", \".TAU application  => [CONTEXT] .TAU application  => [SAMPLE] compute [{/luk<br>e-perm/taucmdr/examples/mm/matmult.c} {101}]\", \".TAU application  => [CONTEXT] .TAU application  => [SAMPLE] compute [{/luk<br>e-perm/taucmdr/examples/mm/matmult.c} {101}]\", \".TAU application  => [CONTEXT] .TAU application  => [SAMPLE] compute [{/luk<br>e-perm/taucmdr/examples/mm/matmult.c} {101}]\", \".TAU application  => [CONTEXT] .TAU application  => [SAMPLE] compute [{/luk<br>e-perm/taucmdr/examples/mm/matmult.c} {101}]\", \".TAU application  => [CONTEXT] .TAU application  => [SAMPLE] compute [{/luk<br>e-perm/taucmdr/examples/mm/matmult.c} {101}]\"], \"type\": \"bar\", \"x\": [1074994.0, 1049990.0, 1000001.0, 1194996.0, 1204986.0, 1119996.0, 1050011.0], \"y\": [\"(6, 0, 0)\", \"(5, 0, 0)\", \"(4, 0, 0)\", \"(3, 0, 0)\", \"(2, 0, 0)\", \"(1, 0, 0)\", \"(0, 0, 0)\"]}, {\"hoverinfo\": \"text\", \"name\": \".TAU application  => [CONTEXT] .TAU application  => [SAMPLE] compute_interchange [{/luke-perm/taucmdr/examples/mm/matmult.c} {122}]\", \"orientation\": \"h\", \"text\": [\".TAU application  => [CONTEXT] .TAU application  => [SAMPLE] compute_interc<br>hange [{/luke-perm/taucmdr/examples/mm/matmult.c} {122}]\", \".TAU application  => [CONTEXT] .TAU application  => [SAMPLE] compute_interc<br>hange [{/luke-perm/taucmdr/examples/mm/matmult.c} {122}]\", \".TAU application  => [CONTEXT] .TAU application  => [SAMPLE] compute_interc<br>hange [{/luke-perm/taucmdr/examples/mm/matmult.c} {122}]\", \".TAU application  => [CONTEXT] .TAU application  => [SAMPLE] compute_interc<br>hange [{/luke-perm/taucmdr/examples/mm/matmult.c} {122}]\", \".TAU application  => [CONTEXT] .TAU application  => [SAMPLE] compute_interc<br>hange [{/luke-perm/taucmdr/examples/mm/matmult.c} {122}]\", \".TAU application  => [CONTEXT] .TAU application  => [SAMPLE] compute_interc<br>hange [{/luke-perm/taucmdr/examples/mm/matmult.c} {122}]\", \".TAU application  => [CONTEXT] .TAU application  => [SAMPLE] compute_interc<br>hange [{/luke-perm/taucmdr/examples/mm/matmult.c} {122}]\"], \"type\": \"bar\", \"x\": [590058.0, 605009.0, 770057.0, 659997.0, 569997.0, 584989.0, 640002.0], \"y\": [\"(6, 0, 0)\", \"(5, 0, 0)\", \"(4, 0, 0)\", \"(3, 0, 0)\", \"(2, 0, 0)\", \"(1, 0, 0)\", \"(0, 0, 0)\"]}, {\"hoverinfo\": \"text\", \"name\": \"[SAMPLE] compute_interchange [{/luke-perm/taucmdr/examples/mm/matmult.c} {122}]\", \"orientation\": \"h\", \"text\": [\"[SAMPLE] compute_interchange [{/luke-perm/taucmdr/examples/mm/matmult.c} {1<br>22}]\", \"[SAMPLE] compute_interchange [{/luke-perm/taucmdr/examples/mm/matmult.c} {1<br>22}]\", \"[SAMPLE] compute_interchange [{/luke-perm/taucmdr/examples/mm/matmult.c} {1<br>22}]\", \"[SAMPLE] compute_interchange [{/luke-perm/taucmdr/examples/mm/matmult.c} {1<br>22}]\", \"[SAMPLE] compute_interchange [{/luke-perm/taucmdr/examples/mm/matmult.c} {1<br>22}]\", \"[SAMPLE] compute_interchange [{/luke-perm/taucmdr/examples/mm/matmult.c} {1<br>22}]\", \"[SAMPLE] compute_interchange [{/luke-perm/taucmdr/examples/mm/matmult.c} {1<br>22}]\"], \"type\": \"bar\", \"x\": [590058.0, 605009.0, 770057.0, 659997.0, 569997.0, 584989.0, 640002.0], \"y\": [\"(6, 0, 0)\", \"(5, 0, 0)\", \"(4, 0, 0)\", \"(3, 0, 0)\", \"(2, 0, 0)\", \"(1, 0, 0)\", \"(0, 0, 0)\"]}, {\"hoverinfo\": \"text\", \"name\": \"[SAMPLE] multiply [{/luke-perm/taucmdr/examples/mm/matmult.c} {60}]\", \"orientation\": \"h\", \"text\": [\"[SAMPLE] multiply [{/luke-perm/taucmdr/examples/mm/matmult.c} {60}]\", \"[SAMPLE] multiply [{/luke-perm/taucmdr/examples/mm/matmult.c} {60}]\", \"[SAMPLE] multiply [{/luke-perm/taucmdr/examples/mm/matmult.c} {60}]\", \"[SAMPLE] multiply [{/luke-perm/taucmdr/examples/mm/matmult.c} {60}]\", \"[SAMPLE] multiply [{/luke-perm/taucmdr/examples/mm/matmult.c} {60}]\", \"[SAMPLE] multiply [{/luke-perm/taucmdr/examples/mm/matmult.c} {60}]\", \"[SAMPLE] multiply [{/luke-perm/taucmdr/examples/mm/matmult.c} {60}]\"], \"type\": \"bar\", \"x\": [449943.0, 469995.0, 559937.0, 500004.0, 425012.0, 429996.0, 474980.0], \"y\": [\"(6, 0, 0)\", \"(5, 0, 0)\", \"(4, 0, 0)\", \"(3, 0, 0)\", \"(2, 0, 0)\", \"(1, 0, 0)\", \"(0, 0, 0)\"]}, {\"hoverinfo\": \"text\", \"name\": \".TAU application  => [CONTEXT] .TAU application  => [SAMPLE] multiply [{/luke-perm/taucmdr/examples/mm/matmult.c} {60}]\", \"orientation\": \"h\", \"text\": [\".TAU application  => [CONTEXT] .TAU application  => [SAMPLE] multiply [{/lu<br>ke-perm/taucmdr/examples/mm/matmult.c} {60}]\", \".TAU application  => [CONTEXT] .TAU application  => [SAMPLE] multiply [{/lu<br>ke-perm/taucmdr/examples/mm/matmult.c} {60}]\", \".TAU application  => [CONTEXT] .TAU application  => [SAMPLE] multiply [{/lu<br>ke-perm/taucmdr/examples/mm/matmult.c} {60}]\", \".TAU application  => [CONTEXT] .TAU application  => [SAMPLE] multiply [{/lu<br>ke-perm/taucmdr/examples/mm/matmult.c} {60}]\", \".TAU application  => [CONTEXT] .TAU application  => [SAMPLE] multiply [{/lu<br>ke-perm/taucmdr/examples/mm/matmult.c} {60}]\", \".TAU application  => [CONTEXT] .TAU application  => [SAMPLE] multiply [{/lu<br>ke-perm/taucmdr/examples/mm/matmult.c} {60}]\", \".TAU application  => [CONTEXT] .TAU application  => [SAMPLE] multiply [{/lu<br>ke-perm/taucmdr/examples/mm/matmult.c} {60}]\"], \"type\": \"bar\", \"x\": [449943.0, 469995.0, 559937.0, 500004.0, 425012.0, 429996.0, 474980.0], \"y\": [\"(6, 0, 0)\", \"(5, 0, 0)\", \"(4, 0, 0)\", \"(3, 0, 0)\", \"(2, 0, 0)\", \"(1, 0, 0)\", \"(0, 0, 0)\"]}, {\"hoverinfo\": \"text\", \"name\": \".TAU application => MPI_Finalize()  \", \"orientation\": \"h\", \"text\": [\".TAU application => MPI_Finalize()  \", \".TAU application => MPI_Finalize()  \", \".TAU application => MPI_Finalize()  \", \".TAU application => MPI_Finalize()  \", \".TAU application => MPI_Finalize()  \", \".TAU application => MPI_Finalize()  \", \".TAU application => MPI_Finalize()  \"], \"type\": \"bar\", \"x\": [213977.0, 228674.0, 4914.0, 55926.0, 84354.0, 194791.0, 193905.0], \"y\": [\"(6, 0, 0)\", \"(5, 0, 0)\", \"(4, 0, 0)\", \"(3, 0, 0)\", \"(2, 0, 0)\", \"(1, 0, 0)\", \"(0, 0, 0)\"]}, {\"hoverinfo\": \"text\", \"name\": \"MPI_Finalize()  \", \"orientation\": \"h\", \"text\": [\"MPI_Finalize()  \", \"MPI_Finalize()  \", \"MPI_Finalize()  \", \"MPI_Finalize()  \", \"MPI_Finalize()  \", \"MPI_Finalize()  \", \"MPI_Finalize()  \"], \"type\": \"bar\", \"x\": [213977.0, 228674.0, 4914.0, 55926.0, 84354.0, 194791.0, 193905.0], \"y\": [\"(6, 0, 0)\", \"(5, 0, 0)\", \"(4, 0, 0)\", \"(3, 0, 0)\", \"(2, 0, 0)\", \"(1, 0, 0)\", \"(0, 0, 0)\"]}, {\"hoverinfo\": \"text\", \"name\": \".TAU application  => [CONTEXT] .TAU application  => [SAMPLE] multiply [{/luke-perm/taucmdr/examples/mm/matmult.c} {59}]\", \"orientation\": \"h\", \"text\": [\".TAU application  => [CONTEXT] .TAU application  => [SAMPLE] multiply [{/lu<br>ke-perm/taucmdr/examples/mm/matmult.c} {59}]\", \".TAU application  => [CONTEXT] .TAU application  => [SAMPLE] multiply [{/lu<br>ke-perm/taucmdr/examples/mm/matmult.c} {59}]\", \".TAU application  => [CONTEXT] .TAU application  => [SAMPLE] multiply [{/lu<br>ke-perm/taucmdr/examples/mm/matmult.c} {59}]\", \".TAU application  => [CONTEXT] .TAU application  => [SAMPLE] multiply [{/lu<br>ke-perm/taucmdr/examples/mm/matmult.c} {59}]\", \".TAU application  => [CONTEXT] .TAU application  => [SAMPLE] multiply [{/lu<br>ke-perm/taucmdr/examples/mm/matmult.c} {59}]\", \".TAU application  => [CONTEXT] .TAU application  => [SAMPLE] multiply [{/lu<br>ke-perm/taucmdr/examples/mm/matmult.c} {59}]\", \".TAU application  => [CONTEXT] .TAU application  => [SAMPLE] multiply [{/lu<br>ke-perm/taucmdr/examples/mm/matmult.c} {59}]\"], \"type\": \"bar\", \"x\": [139999.0, 140000.0, 179998.0, 105000.0, 199996.0, 170010.0, 155002.0], \"y\": [\"(6, 0, 0)\", \"(5, 0, 0)\", \"(4, 0, 0)\", \"(3, 0, 0)\", \"(2, 0, 0)\", \"(1, 0, 0)\", \"(0, 0, 0)\"]}, {\"hoverinfo\": \"text\", \"name\": \"[SAMPLE] multiply [{/luke-perm/taucmdr/examples/mm/matmult.c} {59}]\", \"orientation\": \"h\", \"text\": [\"[SAMPLE] multiply [{/luke-perm/taucmdr/examples/mm/matmult.c} {59}]\", \"[SAMPLE] multiply [{/luke-perm/taucmdr/examples/mm/matmult.c} {59}]\", \"[SAMPLE] multiply [{/luke-perm/taucmdr/examples/mm/matmult.c} {59}]\", \"[SAMPLE] multiply [{/luke-perm/taucmdr/examples/mm/matmult.c} {59}]\", \"[SAMPLE] multiply [{/luke-perm/taucmdr/examples/mm/matmult.c} {59}]\", \"[SAMPLE] multiply [{/luke-perm/taucmdr/examples/mm/matmult.c} {59}]\", \"[SAMPLE] multiply [{/luke-perm/taucmdr/examples/mm/matmult.c} {59}]\"], \"type\": \"bar\", \"x\": [139999.0, 140000.0, 179998.0, 105000.0, 199996.0, 170010.0, 155002.0], \"y\": [\"(6, 0, 0)\", \"(5, 0, 0)\", \"(4, 0, 0)\", \"(3, 0, 0)\", \"(2, 0, 0)\", \"(1, 0, 0)\", \"(0, 0, 0)\"]}, {\"hoverinfo\": \"text\", \"name\": \".TAU application  => [CONTEXT] .TAU application  => [SAMPLE] compute [{/luke-perm/taucmdr/examples/mm/matmult.c} {99}]\", \"orientation\": \"h\", \"text\": [\".TAU application  => [CONTEXT] .TAU application  => [SAMPLE] compute [{/luk<br>e-perm/taucmdr/examples/mm/matmult.c} {99}]\", \".TAU application  => [CONTEXT] .TAU application  => [SAMPLE] compute [{/luk<br>e-perm/taucmdr/examples/mm/matmult.c} {99}]\", \".TAU application  => [CONTEXT] .TAU application  => [SAMPLE] compute [{/luk<br>e-perm/taucmdr/examples/mm/matmult.c} {99}]\", \".TAU application  => [CONTEXT] .TAU application  => [SAMPLE] compute [{/luk<br>e-perm/taucmdr/examples/mm/matmult.c} {99}]\", \".TAU application  => [CONTEXT] .TAU application  => [SAMPLE] compute [{/luk<br>e-perm/taucmdr/examples/mm/matmult.c} {99}]\", \".TAU application  => [CONTEXT] .TAU application  => [SAMPLE] compute [{/luk<br>e-perm/taucmdr/examples/mm/matmult.c} {99}]\", \".TAU application  => [CONTEXT] .TAU application  => [SAMPLE] compute [{/luk<br>e-perm/taucmdr/examples/mm/matmult.c} {99}]\"], \"type\": \"bar\", \"x\": [70000.0, 45000.0, 45000.0, 74996.0, 64998.0, 70001.0, 59998.0], \"y\": [\"(6, 0, 0)\", \"(5, 0, 0)\", \"(4, 0, 0)\", \"(3, 0, 0)\", \"(2, 0, 0)\", \"(1, 0, 0)\", \"(0, 0, 0)\"]}, {\"hoverinfo\": \"text\", \"name\": \"[SAMPLE] compute [{/luke-perm/taucmdr/examples/mm/matmult.c} {99}]\", \"orientation\": \"h\", \"text\": [\"[SAMPLE] compute [{/luke-perm/taucmdr/examples/mm/matmult.c} {99}]\", \"[SAMPLE] compute [{/luke-perm/taucmdr/examples/mm/matmult.c} {99}]\", \"[SAMPLE] compute [{/luke-perm/taucmdr/examples/mm/matmult.c} {99}]\", \"[SAMPLE] compute [{/luke-perm/taucmdr/examples/mm/matmult.c} {99}]\", \"[SAMPLE] compute [{/luke-perm/taucmdr/examples/mm/matmult.c} {99}]\", \"[SAMPLE] compute [{/luke-perm/taucmdr/examples/mm/matmult.c} {99}]\", \"[SAMPLE] compute [{/luke-perm/taucmdr/examples/mm/matmult.c} {99}]\"], \"type\": \"bar\", \"x\": [70000.0, 45000.0, 45000.0, 74996.0, 64998.0, 70001.0, 59998.0], \"y\": [\"(6, 0, 0)\", \"(5, 0, 0)\", \"(4, 0, 0)\", \"(3, 0, 0)\", \"(2, 0, 0)\", \"(1, 0, 0)\", \"(0, 0, 0)\"]}, {\"hoverinfo\": \"text\", \"name\": \".TAU application  => [CONTEXT] .TAU application  => [SAMPLE] compute_interchange [{/luke-perm/taucmdr/examples/mm/matmult.c} {120}]\", \"orientation\": \"h\", \"text\": [\".TAU application  => [CONTEXT] .TAU application  => [SAMPLE] compute_interc<br>hange [{/luke-perm/taucmdr/examples/mm/matmult.c} {120}]\", \".TAU application  => [CONTEXT] .TAU application  => [SAMPLE] compute_interc<br>hange [{/luke-perm/taucmdr/examples/mm/matmult.c} {120}]\", \".TAU application  => [CONTEXT] .TAU application  => [SAMPLE] compute_interc<br>hange [{/luke-perm/taucmdr/examples/mm/matmult.c} {120}]\", \".TAU application  => [CONTEXT] .TAU application  => [SAMPLE] compute_interc<br>hange [{/luke-perm/taucmdr/examples/mm/matmult.c} {120}]\", \".TAU application  => [CONTEXT] .TAU application  => [SAMPLE] compute_interc<br>hange [{/luke-perm/taucmdr/examples/mm/matmult.c} {120}]\", \".TAU application  => [CONTEXT] .TAU application  => [SAMPLE] compute_interc<br>hange [{/luke-perm/taucmdr/examples/mm/matmult.c} {120}]\", \".TAU application  => [CONTEXT] .TAU application  => [SAMPLE] compute_interc<br>hange [{/luke-perm/taucmdr/examples/mm/matmult.c} {120}]\"], \"type\": \"bar\", \"x\": [75000.0, 60000.0, 49999.0, 20000.0, 59989.0, 55001.0, 50000.0], \"y\": [\"(6, 0, 0)\", \"(5, 0, 0)\", \"(4, 0, 0)\", \"(3, 0, 0)\", \"(2, 0, 0)\", \"(1, 0, 0)\", \"(0, 0, 0)\"]}, {\"hoverinfo\": \"text\", \"name\": \"[SAMPLE] compute_interchange [{/luke-perm/taucmdr/examples/mm/matmult.c} {120}]\", \"orientation\": \"h\", \"text\": [\"[SAMPLE] compute_interchange [{/luke-perm/taucmdr/examples/mm/matmult.c} {1<br>20}]\", \"[SAMPLE] compute_interchange [{/luke-perm/taucmdr/examples/mm/matmult.c} {1<br>20}]\", \"[SAMPLE] compute_interchange [{/luke-perm/taucmdr/examples/mm/matmult.c} {1<br>20}]\", \"[SAMPLE] compute_interchange [{/luke-perm/taucmdr/examples/mm/matmult.c} {1<br>20}]\", \"[SAMPLE] compute_interchange [{/luke-perm/taucmdr/examples/mm/matmult.c} {1<br>20}]\", \"[SAMPLE] compute_interchange [{/luke-perm/taucmdr/examples/mm/matmult.c} {1<br>20}]\", \"[SAMPLE] compute_interchange [{/luke-perm/taucmdr/examples/mm/matmult.c} {1<br>20}]\"], \"type\": \"bar\", \"x\": [75000.0, 60000.0, 49999.0, 20000.0, 59989.0, 55001.0, 50000.0], \"y\": [\"(6, 0, 0)\", \"(5, 0, 0)\", \"(4, 0, 0)\", \"(3, 0, 0)\", \"(2, 0, 0)\", \"(1, 0, 0)\", \"(0, 0, 0)\"]}, {\"hoverinfo\": \"text\", \"name\": \".TAU application => MPI_Init()  \", \"orientation\": \"h\", \"text\": [\".TAU application => MPI_Init()  \", \".TAU application => MPI_Init()  \", \".TAU application => MPI_Init()  \", \".TAU application => MPI_Init()  \", \".TAU application => MPI_Init()  \", \".TAU application => MPI_Init()  \", \".TAU application => MPI_Init()  \"], \"type\": \"bar\", \"x\": [25701.0, 25791.0, 25795.0, 25613.0, 25726.0, 25760.0, 25673.0], \"y\": [\"(6, 0, 0)\", \"(5, 0, 0)\", \"(4, 0, 0)\", \"(3, 0, 0)\", \"(2, 0, 0)\", \"(1, 0, 0)\", \"(0, 0, 0)\"]}, {\"hoverinfo\": \"text\", \"name\": \"MPI_Init()  \", \"orientation\": \"h\", \"text\": [\"MPI_Init()  \", \"MPI_Init()  \", \"MPI_Init()  \", \"MPI_Init()  \", \"MPI_Init()  \", \"MPI_Init()  \", \"MPI_Init()  \"], \"type\": \"bar\", \"x\": [25701.0, 25791.0, 25795.0, 25613.0, 25726.0, 25760.0, 25673.0], \"y\": [\"(6, 0, 0)\", \"(5, 0, 0)\", \"(4, 0, 0)\", \"(3, 0, 0)\", \"(2, 0, 0)\", \"(1, 0, 0)\", \"(0, 0, 0)\"]}, {\"hoverinfo\": \"text\", \"name\": \".TAU application  => [CONTEXT] .TAU application  => [SAMPLE] sysmalloc [{malloc.c} {0}]\", \"orientation\": \"h\", \"text\": [\".TAU application  => [CONTEXT] .TAU application  => [SAMPLE] sysmalloc [{ma<br>lloc.c} {0}]\", \".TAU application  => [CONTEXT] .TAU application  => [SAMPLE] sysmalloc [{ma<br>lloc.c} {0}]\", \".TAU application  => [CONTEXT] .TAU application  => [SAMPLE] sysmalloc [{ma<br>lloc.c} {0}]\", \".TAU application  => [CONTEXT] .TAU application  => [SAMPLE] sysmalloc [{ma<br>lloc.c} {0}]\", \".TAU application  => [CONTEXT] .TAU application  => [SAMPLE] sysmalloc [{ma<br>lloc.c} {0}]\", \".TAU application  => [CONTEXT] .TAU application  => [SAMPLE] sysmalloc [{ma<br>lloc.c} {0}]\", \".TAU application  => [CONTEXT] .TAU application  => [SAMPLE] sysmalloc [{ma<br>lloc.c} {0}]\"], \"type\": \"bar\", \"x\": [0.0, 0.0, 0.0, 0.0, 5022.0, 0.0, 5017.0], \"y\": [\"(6, 0, 0)\", \"(5, 0, 0)\", \"(4, 0, 0)\", \"(3, 0, 0)\", \"(2, 0, 0)\", \"(1, 0, 0)\", \"(0, 0, 0)\"]}, {\"hoverinfo\": \"text\", \"name\": \"[SAMPLE] sysmalloc [{malloc.c} {0}]\", \"orientation\": \"h\", \"text\": [\"[SAMPLE] sysmalloc [{malloc.c} {0}]\", \"[SAMPLE] sysmalloc [{malloc.c} {0}]\", \"[SAMPLE] sysmalloc [{malloc.c} {0}]\", \"[SAMPLE] sysmalloc [{malloc.c} {0}]\", \"[SAMPLE] sysmalloc [{malloc.c} {0}]\", \"[SAMPLE] sysmalloc [{malloc.c} {0}]\", \"[SAMPLE] sysmalloc [{malloc.c} {0}]\"], \"type\": \"bar\", \"x\": [0.0, 0.0, 0.0, 0.0, 5022.0, 0.0, 5017.0], \"y\": [\"(6, 0, 0)\", \"(5, 0, 0)\", \"(4, 0, 0)\", \"(3, 0, 0)\", \"(2, 0, 0)\", \"(1, 0, 0)\", \"(0, 0, 0)\"]}, {\"hoverinfo\": \"text\", \"name\": \"[SAMPLE] initialize [{/luke-perm/taucmdr/examples/mm/matmult_initialize.c} {12}]\", \"orientation\": \"h\", \"text\": [\"[SAMPLE] initialize [{/luke-perm/taucmdr/examples/mm/matmult_initialize.c} <br>{12}]\", \"[SAMPLE] initialize [{/luke-perm/taucmdr/examples/mm/matmult_initialize.c} <br>{12}]\", \"[SAMPLE] initialize [{/luke-perm/taucmdr/examples/mm/matmult_initialize.c} <br>{12}]\", \"[SAMPLE] initialize [{/luke-perm/taucmdr/examples/mm/matmult_initialize.c} <br>{12}]\", \"[SAMPLE] initialize [{/luke-perm/taucmdr/examples/mm/matmult_initialize.c} <br>{12}]\", \"[SAMPLE] initialize [{/luke-perm/taucmdr/examples/mm/matmult_initialize.c} <br>{12}]\", \"[SAMPLE] initialize [{/luke-perm/taucmdr/examples/mm/matmult_initialize.c} <br>{12}]\"], \"type\": \"bar\", \"x\": [0.0, 0.0, 0.0, 0.0, 0.0, 4985.0, 4990.0], \"y\": [\"(6, 0, 0)\", \"(5, 0, 0)\", \"(4, 0, 0)\", \"(3, 0, 0)\", \"(2, 0, 0)\", \"(1, 0, 0)\", \"(0, 0, 0)\"]}, {\"hoverinfo\": \"text\", \"name\": \".TAU application  => [CONTEXT] .TAU application  => [SAMPLE] initialize [{/luke-perm/taucmdr/examples/mm/matmult_initialize.c} {12}]\", \"orientation\": \"h\", \"text\": [\".TAU application  => [CONTEXT] .TAU application  => [SAMPLE] initialize [{/<br>luke-perm/taucmdr/examples/mm/matmult_initialize.c} {12}]\", \".TAU application  => [CONTEXT] .TAU application  => [SAMPLE] initialize [{/<br>luke-perm/taucmdr/examples/mm/matmult_initialize.c} {12}]\", \".TAU application  => [CONTEXT] .TAU application  => [SAMPLE] initialize [{/<br>luke-perm/taucmdr/examples/mm/matmult_initialize.c} {12}]\", \".TAU application  => [CONTEXT] .TAU application  => [SAMPLE] initialize [{/<br>luke-perm/taucmdr/examples/mm/matmult_initialize.c} {12}]\", \".TAU application  => [CONTEXT] .TAU application  => [SAMPLE] initialize [{/<br>luke-perm/taucmdr/examples/mm/matmult_initialize.c} {12}]\", \".TAU application  => [CONTEXT] .TAU application  => [SAMPLE] initialize [{/<br>luke-perm/taucmdr/examples/mm/matmult_initialize.c} {12}]\", \".TAU application  => [CONTEXT] .TAU application  => [SAMPLE] initialize [{/<br>luke-perm/taucmdr/examples/mm/matmult_initialize.c} {12}]\"], \"type\": \"bar\", \"x\": [0.0, 0.0, 0.0, 0.0, 0.0, 4985.0, 4990.0], \"y\": [\"(6, 0, 0)\", \"(5, 0, 0)\", \"(4, 0, 0)\", \"(3, 0, 0)\", \"(2, 0, 0)\", \"(1, 0, 0)\", \"(0, 0, 0)\"]}, {\"hoverinfo\": \"text\", \"name\": \"[CONTEXT] .TAU application\", \"orientation\": \"h\", \"text\": [\"[CONTEXT] .TAU application\", \"[CONTEXT] .TAU application\", \"[CONTEXT] .TAU application\", \"[CONTEXT] .TAU application\", \"[CONTEXT] .TAU application\", \"[CONTEXT] .TAU application\", \"[CONTEXT] .TAU application\"], \"type\": \"bar\", \"x\": [0.0, 0.0, 0.0, 0.0, 0.0, 0.0, 0.0], \"y\": [\"(6, 0, 0)\", \"(5, 0, 0)\", \"(4, 0, 0)\", \"(3, 0, 0)\", \"(2, 0, 0)\", \"(1, 0, 0)\", \"(0, 0, 0)\"]}, {\"hoverinfo\": \"text\", \"name\": \".TAU application  => [CONTEXT] .TAU application\", \"orientation\": \"h\", \"text\": [\".TAU application  => [CONTEXT] .TAU application\", \".TAU application  => [CONTEXT] .TAU application\", \".TAU application  => [CONTEXT] .TAU application\", \".TAU application  => [CONTEXT] .TAU application\", \".TAU application  => [CONTEXT] .TAU application\", \".TAU application  => [CONTEXT] .TAU application\", \".TAU application  => [CONTEXT] .TAU application\"], \"type\": \"bar\", \"x\": [0.0, 0.0, 0.0, 0.0, 0.0, 0.0, 0.0], \"y\": [\"(6, 0, 0)\", \"(5, 0, 0)\", \"(4, 0, 0)\", \"(3, 0, 0)\", \"(2, 0, 0)\", \"(1, 0, 0)\", \"(0, 0, 0)\"]}, {\"hoverinfo\": \"text\", \"name\": \".TAU application  => [CONTEXT] .TAU application  => [SAMPLE] _int_malloc [{malloc.c} {0}]\", \"orientation\": \"h\", \"text\": [\".TAU application  => [CONTEXT] .TAU application  => [SAMPLE] _int_malloc [{<br>malloc.c} {0}]\", \".TAU application  => [CONTEXT] .TAU application  => [SAMPLE] _int_malloc [{<br>malloc.c} {0}]\", \".TAU application  => [CONTEXT] .TAU application  => [SAMPLE] _int_malloc [{<br>malloc.c} {0}]\", \".TAU application  => [CONTEXT] .TAU application  => [SAMPLE] _int_malloc [{<br>malloc.c} {0}]\", \".TAU application  => [CONTEXT] .TAU application  => [SAMPLE] _int_malloc [{<br>malloc.c} {0}]\", \".TAU application  => [CONTEXT] .TAU application  => [SAMPLE] _int_malloc [{<br>malloc.c} {0}]\", \".TAU application  => [CONTEXT] .TAU application  => [SAMPLE] _int_malloc [{<br>malloc.c} {0}]\"], \"type\": \"bar\", \"x\": [5019.0, 5021.0, 5018.0, 5022.0, 0.0, 5022.0, 0.0], \"y\": [\"(6, 0, 0)\", \"(5, 0, 0)\", \"(4, 0, 0)\", \"(3, 0, 0)\", \"(2, 0, 0)\", \"(1, 0, 0)\", \"(0, 0, 0)\"]}, {\"hoverinfo\": \"text\", \"name\": \".TAU application  => [CONTEXT] .TAU application  => [SAMPLE] compute_interchange [{/luke-perm/taucmdr/examples/mm/matmult.c} {119}]\", \"orientation\": \"h\", \"text\": [\".TAU application  => [CONTEXT] .TAU application  => [SAMPLE] compute_interc<br>hange [{/luke-perm/taucmdr/examples/mm/matmult.c} {119}]\", \".TAU application  => [CONTEXT] .TAU application  => [SAMPLE] compute_interc<br>hange [{/luke-perm/taucmdr/examples/mm/matmult.c} {119}]\", \".TAU application  => [CONTEXT] .TAU application  => [SAMPLE] compute_interc<br>hange [{/luke-perm/taucmdr/examples/mm/matmult.c} {119}]\", \".TAU application  => [CONTEXT] .TAU application  => [SAMPLE] compute_interc<br>hange [{/luke-perm/taucmdr/examples/mm/matmult.c} {119}]\", \".TAU application  => [CONTEXT] .TAU application  => [SAMPLE] compute_interc<br>hange [{/luke-perm/taucmdr/examples/mm/matmult.c} {119}]\", \".TAU application  => [CONTEXT] .TAU application  => [SAMPLE] compute_interc<br>hange [{/luke-perm/taucmdr/examples/mm/matmult.c} {119}]\", \".TAU application  => [CONTEXT] .TAU application  => [SAMPLE] compute_interc<br>hange [{/luke-perm/taucmdr/examples/mm/matmult.c} {119}]\"], \"type\": \"bar\", \"x\": [0.0, 0.0, 5000.0, 5000.0, 0.0, 0.0, 0.0], \"y\": [\"(6, 0, 0)\", \"(5, 0, 0)\", \"(4, 0, 0)\", \"(3, 0, 0)\", \"(2, 0, 0)\", \"(1, 0, 0)\", \"(0, 0, 0)\"]}, {\"hoverinfo\": \"text\", \"name\": \".TAU application  => [CONTEXT] .TAU application  => [SAMPLE] initialize [{/luke-perm/taucmdr/examples/mm/matmult_initialize.c} {11}]\", \"orientation\": \"h\", \"text\": [\".TAU application  => [CONTEXT] .TAU application  => [SAMPLE] initialize [{/<br>luke-perm/taucmdr/examples/mm/matmult_initialize.c} {11}]\", \".TAU application  => [CONTEXT] .TAU application  => [SAMPLE] initialize [{/<br>luke-perm/taucmdr/examples/mm/matmult_initialize.c} {11}]\", \".TAU application  => [CONTEXT] .TAU application  => [SAMPLE] initialize [{/<br>luke-perm/taucmdr/examples/mm/matmult_initialize.c} {11}]\", \".TAU application  => [CONTEXT] .TAU application  => [SAMPLE] initialize [{/<br>luke-perm/taucmdr/examples/mm/matmult_initialize.c} {11}]\", \".TAU application  => [CONTEXT] .TAU application  => [SAMPLE] initialize [{/<br>luke-perm/taucmdr/examples/mm/matmult_initialize.c} {11}]\", \".TAU application  => [CONTEXT] .TAU application  => [SAMPLE] initialize [{/<br>luke-perm/taucmdr/examples/mm/matmult_initialize.c} {11}]\", \".TAU application  => [CONTEXT] .TAU application  => [SAMPLE] initialize [{/<br>luke-perm/taucmdr/examples/mm/matmult_initialize.c} {11}]\"], \"type\": \"bar\", \"x\": [4989.0, 4985.0, 4989.0, 4985.0, 4986.0, 0.0, 0.0], \"y\": [\"(6, 0, 0)\", \"(5, 0, 0)\", \"(4, 0, 0)\", \"(3, 0, 0)\", \"(2, 0, 0)\", \"(1, 0, 0)\", \"(0, 0, 0)\"]}, {\"hoverinfo\": \"text\", \"name\": \"[SAMPLE] _int_malloc [{malloc.c} {0}]\", \"orientation\": \"h\", \"text\": [\"[SAMPLE] _int_malloc [{malloc.c} {0}]\", \"[SAMPLE] _int_malloc [{malloc.c} {0}]\", \"[SAMPLE] _int_malloc [{malloc.c} {0}]\", \"[SAMPLE] _int_malloc [{malloc.c} {0}]\", \"[SAMPLE] _int_malloc [{malloc.c} {0}]\", \"[SAMPLE] _int_malloc [{malloc.c} {0}]\", \"[SAMPLE] _int_malloc [{malloc.c} {0}]\"], \"type\": \"bar\", \"x\": [5019.0, 5021.0, 5018.0, 5022.0, 0.0, 5022.0, 0.0], \"y\": [\"(6, 0, 0)\", \"(5, 0, 0)\", \"(4, 0, 0)\", \"(3, 0, 0)\", \"(2, 0, 0)\", \"(1, 0, 0)\", \"(0, 0, 0)\"]}, {\"hoverinfo\": \"text\", \"name\": \"[SAMPLE] compute_interchange [{/luke-perm/taucmdr/examples/mm/matmult.c} {119}]\", \"orientation\": \"h\", \"text\": [\"[SAMPLE] compute_interchange [{/luke-perm/taucmdr/examples/mm/matmult.c} {1<br>19}]\", \"[SAMPLE] compute_interchange [{/luke-perm/taucmdr/examples/mm/matmult.c} {1<br>19}]\", \"[SAMPLE] compute_interchange [{/luke-perm/taucmdr/examples/mm/matmult.c} {1<br>19}]\", \"[SAMPLE] compute_interchange [{/luke-perm/taucmdr/examples/mm/matmult.c} {1<br>19}]\", \"[SAMPLE] compute_interchange [{/luke-perm/taucmdr/examples/mm/matmult.c} {1<br>19}]\", \"[SAMPLE] compute_interchange [{/luke-perm/taucmdr/examples/mm/matmult.c} {1<br>19}]\", \"[SAMPLE] compute_interchange [{/luke-perm/taucmdr/examples/mm/matmult.c} {1<br>19}]\"], \"type\": \"bar\", \"x\": [0.0, 0.0, 5000.0, 5000.0, 0.0, 0.0, 0.0], \"y\": [\"(6, 0, 0)\", \"(5, 0, 0)\", \"(4, 0, 0)\", \"(3, 0, 0)\", \"(2, 0, 0)\", \"(1, 0, 0)\", \"(0, 0, 0)\"]}, {\"hoverinfo\": \"text\", \"name\": \"[SAMPLE] initialize [{/luke-perm/taucmdr/examples/mm/matmult_initialize.c} {11}]\", \"orientation\": \"h\", \"text\": [\"[SAMPLE] initialize [{/luke-perm/taucmdr/examples/mm/matmult_initialize.c} <br>{11}]\", \"[SAMPLE] initialize [{/luke-perm/taucmdr/examples/mm/matmult_initialize.c} <br>{11}]\", \"[SAMPLE] initialize [{/luke-perm/taucmdr/examples/mm/matmult_initialize.c} <br>{11}]\", \"[SAMPLE] initialize [{/luke-perm/taucmdr/examples/mm/matmult_initialize.c} <br>{11}]\", \"[SAMPLE] initialize [{/luke-perm/taucmdr/examples/mm/matmult_initialize.c} <br>{11}]\", \"[SAMPLE] initialize [{/luke-perm/taucmdr/examples/mm/matmult_initialize.c} <br>{11}]\", \"[SAMPLE] initialize [{/luke-perm/taucmdr/examples/mm/matmult_initialize.c} <br>{11}]\"], \"type\": \"bar\", \"x\": [4989.0, 4985.0, 4989.0, 4985.0, 4986.0, 0.0, 0.0], \"y\": [\"(6, 0, 0)\", \"(5, 0, 0)\", \"(4, 0, 0)\", \"(3, 0, 0)\", \"(2, 0, 0)\", \"(1, 0, 0)\", \"(0, 0, 0)\"]}, {\"hoverinfo\": \"text\", \"marker\": {\"color\": \"#333333\"}, \"name\": \"I\", \"orientation\": \"h\", \"text\": [\"I\", \"I\", \"I\", \"I\", \"I\", \"I\", \"I\"], \"type\": \"bar\", \"x\": [7759048.0, 7713769.0, 7970503.0, 7920807.0, 7879396.0, 7799709.0, 7798625.0], \"y\": [\"(6, 0, 0)\", \"(5, 0, 0)\", \"(4, 0, 0)\", \"(3, 0, 0)\", \"(2, 0, 0)\", \"(1, 0, 0)\", \"(0, 0, 0)\"]}],\n",
       "                        {\"barmode\": \"stack\", \"hovermode\": \"closest\", \"margin\": {\"b\": 0, \"l\": 0, \"r\": 0, \"t\": 10}, \"showlegend\": false, \"template\": {\"data\": {\"bar\": [{\"error_x\": {\"color\": \"#2a3f5f\"}, \"error_y\": {\"color\": \"#2a3f5f\"}, \"marker\": {\"line\": {\"color\": \"#E5ECF6\", \"width\": 0.5}}, \"type\": \"bar\"}], \"barpolar\": [{\"marker\": {\"line\": {\"color\": \"#E5ECF6\", \"width\": 0.5}}, \"type\": \"barpolar\"}], \"carpet\": [{\"aaxis\": {\"endlinecolor\": \"#2a3f5f\", \"gridcolor\": \"white\", \"linecolor\": \"white\", \"minorgridcolor\": \"white\", \"startlinecolor\": \"#2a3f5f\"}, \"baxis\": {\"endlinecolor\": \"#2a3f5f\", \"gridcolor\": \"white\", \"linecolor\": \"white\", \"minorgridcolor\": \"white\", \"startlinecolor\": \"#2a3f5f\"}, \"type\": \"carpet\"}], \"choropleth\": [{\"colorbar\": {\"outlinewidth\": 0, \"ticks\": \"\"}, \"type\": \"choropleth\"}], \"contour\": [{\"colorbar\": {\"outlinewidth\": 0, \"ticks\": \"\"}, \"colorscale\": [[0.0, \"#0d0887\"], [0.1111111111111111, \"#46039f\"], [0.2222222222222222, \"#7201a8\"], [0.3333333333333333, \"#9c179e\"], [0.4444444444444444, \"#bd3786\"], [0.5555555555555556, \"#d8576b\"], [0.6666666666666666, \"#ed7953\"], [0.7777777777777778, \"#fb9f3a\"], [0.8888888888888888, \"#fdca26\"], [1.0, \"#f0f921\"]], \"type\": \"contour\"}], \"contourcarpet\": [{\"colorbar\": {\"outlinewidth\": 0, \"ticks\": \"\"}, \"type\": \"contourcarpet\"}], \"heatmap\": [{\"colorbar\": {\"outlinewidth\": 0, \"ticks\": \"\"}, \"colorscale\": [[0.0, \"#0d0887\"], [0.1111111111111111, \"#46039f\"], [0.2222222222222222, \"#7201a8\"], [0.3333333333333333, \"#9c179e\"], [0.4444444444444444, \"#bd3786\"], [0.5555555555555556, \"#d8576b\"], [0.6666666666666666, \"#ed7953\"], [0.7777777777777778, \"#fb9f3a\"], [0.8888888888888888, \"#fdca26\"], [1.0, \"#f0f921\"]], \"type\": \"heatmap\"}], \"heatmapgl\": [{\"colorbar\": {\"outlinewidth\": 0, \"ticks\": \"\"}, \"colorscale\": [[0.0, \"#0d0887\"], [0.1111111111111111, \"#46039f\"], [0.2222222222222222, \"#7201a8\"], [0.3333333333333333, \"#9c179e\"], [0.4444444444444444, \"#bd3786\"], [0.5555555555555556, \"#d8576b\"], [0.6666666666666666, \"#ed7953\"], [0.7777777777777778, \"#fb9f3a\"], [0.8888888888888888, \"#fdca26\"], [1.0, \"#f0f921\"]], \"type\": \"heatmapgl\"}], \"histogram\": [{\"marker\": {\"colorbar\": {\"outlinewidth\": 0, \"ticks\": \"\"}}, \"type\": \"histogram\"}], \"histogram2d\": [{\"colorbar\": {\"outlinewidth\": 0, \"ticks\": \"\"}, \"colorscale\": [[0.0, \"#0d0887\"], [0.1111111111111111, \"#46039f\"], [0.2222222222222222, \"#7201a8\"], [0.3333333333333333, \"#9c179e\"], [0.4444444444444444, \"#bd3786\"], [0.5555555555555556, \"#d8576b\"], [0.6666666666666666, \"#ed7953\"], [0.7777777777777778, \"#fb9f3a\"], [0.8888888888888888, \"#fdca26\"], [1.0, \"#f0f921\"]], \"type\": \"histogram2d\"}], \"histogram2dcontour\": [{\"colorbar\": {\"outlinewidth\": 0, \"ticks\": \"\"}, \"colorscale\": [[0.0, \"#0d0887\"], [0.1111111111111111, \"#46039f\"], [0.2222222222222222, \"#7201a8\"], [0.3333333333333333, \"#9c179e\"], [0.4444444444444444, \"#bd3786\"], [0.5555555555555556, \"#d8576b\"], [0.6666666666666666, \"#ed7953\"], [0.7777777777777778, \"#fb9f3a\"], [0.8888888888888888, \"#fdca26\"], [1.0, \"#f0f921\"]], \"type\": \"histogram2dcontour\"}], \"mesh3d\": [{\"colorbar\": {\"outlinewidth\": 0, \"ticks\": \"\"}, \"type\": \"mesh3d\"}], \"parcoords\": [{\"line\": {\"colorbar\": {\"outlinewidth\": 0, \"ticks\": \"\"}}, \"type\": \"parcoords\"}], \"pie\": [{\"automargin\": true, \"type\": \"pie\"}], \"scatter\": [{\"marker\": {\"colorbar\": {\"outlinewidth\": 0, \"ticks\": \"\"}}, \"type\": \"scatter\"}], \"scatter3d\": [{\"line\": {\"colorbar\": {\"outlinewidth\": 0, \"ticks\": \"\"}}, \"marker\": {\"colorbar\": {\"outlinewidth\": 0, \"ticks\": \"\"}}, \"type\": \"scatter3d\"}], \"scattercarpet\": [{\"marker\": {\"colorbar\": {\"outlinewidth\": 0, \"ticks\": \"\"}}, \"type\": \"scattercarpet\"}], \"scattergeo\": [{\"marker\": {\"colorbar\": {\"outlinewidth\": 0, \"ticks\": \"\"}}, \"type\": \"scattergeo\"}], \"scattergl\": [{\"marker\": {\"colorbar\": {\"outlinewidth\": 0, \"ticks\": \"\"}}, \"type\": \"scattergl\"}], \"scattermapbox\": [{\"marker\": {\"colorbar\": {\"outlinewidth\": 0, \"ticks\": \"\"}}, \"type\": \"scattermapbox\"}], \"scatterpolar\": [{\"marker\": {\"colorbar\": {\"outlinewidth\": 0, \"ticks\": \"\"}}, \"type\": \"scatterpolar\"}], \"scatterpolargl\": [{\"marker\": {\"colorbar\": {\"outlinewidth\": 0, \"ticks\": \"\"}}, \"type\": \"scatterpolargl\"}], \"scatterternary\": [{\"marker\": {\"colorbar\": {\"outlinewidth\": 0, \"ticks\": \"\"}}, \"type\": \"scatterternary\"}], \"surface\": [{\"colorbar\": {\"outlinewidth\": 0, \"ticks\": \"\"}, \"colorscale\": [[0.0, \"#0d0887\"], [0.1111111111111111, \"#46039f\"], [0.2222222222222222, \"#7201a8\"], [0.3333333333333333, \"#9c179e\"], [0.4444444444444444, \"#bd3786\"], [0.5555555555555556, \"#d8576b\"], [0.6666666666666666, \"#ed7953\"], [0.7777777777777778, \"#fb9f3a\"], [0.8888888888888888, \"#fdca26\"], [1.0, \"#f0f921\"]], \"type\": \"surface\"}], \"table\": [{\"cells\": {\"fill\": {\"color\": \"#EBF0F8\"}, \"line\": {\"color\": \"white\"}}, \"header\": {\"fill\": {\"color\": \"#C8D4E3\"}, \"line\": {\"color\": \"white\"}}, \"type\": \"table\"}]}, \"layout\": {\"annotationdefaults\": {\"arrowcolor\": \"#2a3f5f\", \"arrowhead\": 0, \"arrowwidth\": 1}, \"coloraxis\": {\"colorbar\": {\"outlinewidth\": 0, \"ticks\": \"\"}}, \"colorscale\": {\"diverging\": [[0, \"#8e0152\"], [0.1, \"#c51b7d\"], [0.2, \"#de77ae\"], [0.3, \"#f1b6da\"], [0.4, \"#fde0ef\"], [0.5, \"#f7f7f7\"], [0.6, \"#e6f5d0\"], [0.7, \"#b8e186\"], [0.8, \"#7fbc41\"], [0.9, \"#4d9221\"], [1, \"#276419\"]], \"sequential\": [[0.0, \"#0d0887\"], [0.1111111111111111, \"#46039f\"], [0.2222222222222222, \"#7201a8\"], [0.3333333333333333, \"#9c179e\"], [0.4444444444444444, \"#bd3786\"], [0.5555555555555556, \"#d8576b\"], [0.6666666666666666, \"#ed7953\"], [0.7777777777777778, \"#fb9f3a\"], [0.8888888888888888, \"#fdca26\"], [1.0, \"#f0f921\"]], \"sequentialminus\": [[0.0, \"#0d0887\"], [0.1111111111111111, \"#46039f\"], [0.2222222222222222, \"#7201a8\"], [0.3333333333333333, \"#9c179e\"], [0.4444444444444444, \"#bd3786\"], [0.5555555555555556, \"#d8576b\"], [0.6666666666666666, \"#ed7953\"], [0.7777777777777778, \"#fb9f3a\"], [0.8888888888888888, \"#fdca26\"], [1.0, \"#f0f921\"]]}, \"colorway\": [\"#636efa\", \"#EF553B\", \"#00cc96\", \"#ab63fa\", \"#FFA15A\", \"#19d3f3\", \"#FF6692\", \"#B6E880\", \"#FF97FF\", \"#FECB52\"], \"font\": {\"color\": \"#2a3f5f\"}, \"geo\": {\"bgcolor\": \"white\", \"lakecolor\": \"white\", \"landcolor\": \"#E5ECF6\", \"showlakes\": true, \"showland\": true, \"subunitcolor\": \"white\"}, \"hoverlabel\": {\"align\": \"left\"}, \"hovermode\": \"closest\", \"mapbox\": {\"style\": \"light\"}, \"paper_bgcolor\": \"white\", \"plot_bgcolor\": \"#E5ECF6\", \"polar\": {\"angularaxis\": {\"gridcolor\": \"white\", \"linecolor\": \"white\", \"ticks\": \"\"}, \"bgcolor\": \"#E5ECF6\", \"radialaxis\": {\"gridcolor\": \"white\", \"linecolor\": \"white\", \"ticks\": \"\"}}, \"scene\": {\"xaxis\": {\"backgroundcolor\": \"#E5ECF6\", \"gridcolor\": \"white\", \"gridwidth\": 2, \"linecolor\": \"white\", \"showbackground\": true, \"ticks\": \"\", \"zerolinecolor\": \"white\"}, \"yaxis\": {\"backgroundcolor\": \"#E5ECF6\", \"gridcolor\": \"white\", \"gridwidth\": 2, \"linecolor\": \"white\", \"showbackground\": true, \"ticks\": \"\", \"zerolinecolor\": \"white\"}, \"zaxis\": {\"backgroundcolor\": \"#E5ECF6\", \"gridcolor\": \"white\", \"gridwidth\": 2, \"linecolor\": \"white\", \"showbackground\": true, \"ticks\": \"\", \"zerolinecolor\": \"white\"}}, \"shapedefaults\": {\"line\": {\"color\": \"#2a3f5f\"}}, \"ternary\": {\"aaxis\": {\"gridcolor\": \"white\", \"linecolor\": \"white\", \"ticks\": \"\"}, \"baxis\": {\"gridcolor\": \"white\", \"linecolor\": \"white\", \"ticks\": \"\"}, \"bgcolor\": \"#E5ECF6\", \"caxis\": {\"gridcolor\": \"white\", \"linecolor\": \"white\", \"ticks\": \"\"}}, \"title\": {\"x\": 0.05}, \"xaxis\": {\"automargin\": true, \"gridcolor\": \"white\", \"linecolor\": \"white\", \"ticks\": \"\", \"title\": {\"standoff\": 15}, \"zerolinecolor\": \"white\", \"zerolinewidth\": 2}, \"yaxis\": {\"automargin\": true, \"gridcolor\": \"white\", \"linecolor\": \"white\", \"ticks\": \"\", \"title\": {\"standoff\": 15}, \"zerolinecolor\": \"white\", \"zerolinewidth\": 2}}}},\n",
       "                        {\"responsive\": true}\n",
       "                    ).then(function(){\n",
       "                            \n",
       "var gd = document.getElementById('a23bdc9d-7911-4c08-867f-e0f49a4d54a4');\n",
       "var x = new MutationObserver(function (mutations, observer) {{\n",
       "        var display = window.getComputedStyle(gd).display;\n",
       "        if (!display || display === 'none') {{\n",
       "            console.log([gd, 'removed!']);\n",
       "            Plotly.purge(gd);\n",
       "            observer.disconnect();\n",
       "        }}\n",
       "}});\n",
       "\n",
       "// Listen for the removal of the full notebook cells\n",
       "var notebookContainer = gd.closest('#notebook-container');\n",
       "if (notebookContainer) {{\n",
       "    x.observe(notebookContainer, {childList: true});\n",
       "}}\n",
       "\n",
       "// Listen for the clearing of the current output cell\n",
       "var outputEl = gd.closest('.output');\n",
       "if (outputEl) {{\n",
       "    x.observe(outputEl, {childList: true});\n",
       "}}\n",
       "\n",
       "                        })\n",
       "                };\n",
       "                });\n",
       "            </script>\n",
       "        </div>"
      ]
     },
     "metadata": {},
     "output_type": "display_data"
    },
    {
     "data": {
      "image/png": "[encoded data removed]",
      "text/plain": [
       "<Figure size 432x288 with 1 Axes>"
      ]
     },
     "metadata": {
      "needs_background": "light"
     },
     "output_type": "display_data"
    }
   ],
   "source": [
    "# Trial Bar Plot\n",
    "profile = TauProfileParser.parse('./mpi-profile-example')\n",
    "#profile = TauProfileParser.parse('../../nick-profiles')\n",
    "profile.interval_data().groupby('Timer').agg({'Exclusive': 'mean'}).plot.bar(log = True)\n",
    "\n",
    "mdata = profile.interval_data()[['Exclusive']]\n",
    "idata = mdata.unstack().sort_values((0, 0, 0), axis = 1, ascending = False).transpose().fillna(0)\n",
    "df = pd.concat([idata[:100], idata[:100].sum(level = 0).rename({'Exclusive': 'MISC'})], copy = False)\n",
    "indices = [str(i) for i in df.columns.values]\n",
    "\n",
    "data = [\n",
    "    pgo.Bar(\n",
    "        y = indices[::-1],\n",
    "        x = r.values[::-1],\n",
    "        name = idx[1],\n",
    "        orientation = \"h\",\n",
    "        hoverinfo = \"text\",\n",
    "        text = [ \"<br>\".join([idx[1][i:i+75] for i in range(0, len(idx[1]), 75)])] * len(indices)\n",
    "    ) for idx, r in df.iterrows()]\n",
    "\n",
    "data[-1]['marker'] = { 'color': '#333333' }\n",
    "\n",
    "layout = pgo.Layout(\n",
    "    barmode = 'stack',\n",
    "    showlegend = False,\n",
    "    hovermode = 'closest',\n",
    "    margin = pgo.layout.Margin(l = 0, r = 0, b = 0, t = 10))\n",
    "\n",
    "pgo.Figure(data = data, layout = layout)"
   ]
  },
  {
   "cell_type": "code",
   "execution_count": 5,
   "metadata": {},
   "outputs": [
    {
     "data": {
      "application/vnd.plotly.v1+json": {
       "config": {
        "plotlyServerURL": "https://plot.ly"
       },
       "data": [
        {
         "marker": {
          "color": [
           "#1f77b4",
           "#aec7e8",
           "#ff7f0e",
           "#ffbb78",
           "#2ca02c",
           "#98df8a",
           "#d62728",
           "#ff9896",
           "#9467bd",
           "#c5b0d5",
           "#8c564b",
           "#c49c94",
           "#e377c2",
           "#f7b6d2",
           "#7f7f7f",
           "#c7c7c7",
           "#bcbd22",
           "#dbdb8d",
           "#17becf",
           "#9edae5",
           "#7fc97f",
           "#beaed4",
           "#fdc086"
          ]
         },
         "orientation": "h",
         "text": [
          "[CONTEXT] .TAU application",
          ".TAU application  => [CONTEXT] .TAU application",
          ".TAU application  => [CONTEXT] .TAU application  => [SAMPLE] initialize [{/luke-perm/taucmdr/examples/mm/matmult_initialize.c} {12}]",
          "[SAMPLE] initialize [{/luke-perm/taucmdr/examples/mm/matmult_initialize.c} {12}]",
          "[SAMPLE] sysmalloc [{malloc.c} {0}]",
          ".TAU application  => [CONTEXT] .TAU application  => [SAMPLE] sysmalloc [{malloc.c} {0}]",
          "MPI_Init()  ",
          ".TAU application => MPI_Init()  ",
          "[SAMPLE] compute_interchange [{/luke-perm/taucmdr/examples/mm/matmult.c} {120}]",
          ".TAU application  => [CONTEXT] .TAU application  => [SAMPLE] compute_interchange [{/luke-perm/taucmdr/examples/mm/matmult.c} {120}]",
          ".TAU application  => [CONTEXT] .TAU application  => [SAMPLE] compute [{/luke-perm/taucmdr/examples/mm/matmult.c} {99}]",
          "[SAMPLE] compute [{/luke-perm/taucmdr/examples/mm/matmult.c} {99}]",
          ".TAU application  => [CONTEXT] .TAU application  => [SAMPLE] multiply [{/luke-perm/taucmdr/examples/mm/matmult.c} {59}]",
          "[SAMPLE] multiply [{/luke-perm/taucmdr/examples/mm/matmult.c} {59}]",
          ".TAU application => MPI_Finalize()  ",
          "MPI_Finalize()  ",
          ".TAU application  => [CONTEXT] .TAU application  => [SAMPLE] multiply [{/luke-perm/taucmdr/examples/mm/matmult.c} {60}]",
          "[SAMPLE] multiply [{/luke-perm/taucmdr/examples/mm/matmult.c} {60}]",
          "[SAMPLE] compute_interchange [{/luke-perm/taucmdr/examples/mm/matmult.c} {122}]",
          ".TAU application  => [CONTEXT] .TAU application  => [SAMPLE] compute_interchange [{/luke-perm/taucmdr/examples/mm/matmult.c} {122}]",
          ".TAU application  => [CONTEXT] .TAU application  => [SAMPLE] compute [{/luke-perm/taucmdr/examples/mm/matmult.c} {101}]",
          "[SAMPLE] compute [{/luke-perm/taucmdr/examples/mm/matmult.c} {101}]",
          ".TAU application"
         ],
         "textposition": "outside",
         "type": "bar",
         "x": [
          0,
          0,
          4990,
          4990,
          5017,
          5017,
          25673,
          25673,
          50000,
          50000,
          59998,
          59998,
          155002,
          155002,
          193905,
          193905,
          474980,
          474980,
          640002,
          640002,
          1050011,
          1050011,
          2479469
         ],
         "y": [
          "[CONTEXT] .TAU application",
          ".TAU application  => [CONTEXT] .TAU application",
          ".TAU application  => [CONTEXT] .TAU application  => [SAMPLE] initialize [{/luke-perm/taucmdr/examples/mm/matmult_initialize.c} {12}]",
          "[SAMPLE] initialize [{/luke-perm/taucmdr/examples/mm/matmult_initialize.c} {12}]",
          "[SAMPLE] sysmalloc [{malloc.c} {0}]",
          ".TAU application  => [CONTEXT] .TAU application  => [SAMPLE] sysmalloc [{malloc.c} {0}]",
          "MPI_Init()  ",
          ".TAU application => MPI_Init()  ",
          "[SAMPLE] compute_interchange [{/luke-perm/taucmdr/examples/mm/matmult.c} {120}]",
          ".TAU application  => [CONTEXT] .TAU application  => [SAMPLE] compute_interchange [{/luke-perm/taucmdr/examples/mm/matmult.c} {120}]",
          ".TAU application  => [CONTEXT] .TAU application  => [SAMPLE] compute [{/luke-perm/taucmdr/examples/mm/matmult.c} {99}]",
          "[SAMPLE] compute [{/luke-perm/taucmdr/examples/mm/matmult.c} {99}]",
          ".TAU application  => [CONTEXT] .TAU application  => [SAMPLE] multiply [{/luke-perm/taucmdr/examples/mm/matmult.c} {59}]",
          "[SAMPLE] multiply [{/luke-perm/taucmdr/examples/mm/matmult.c} {59}]",
          ".TAU application => MPI_Finalize()  ",
          "MPI_Finalize()  ",
          ".TAU application  => [CONTEXT] .TAU application  => [SAMPLE] multiply [{/luke-perm/taucmdr/examples/mm/matmult.c} {60}]",
          "[SAMPLE] multiply [{/luke-perm/taucmdr/examples/mm/matmult.c} {60}]",
          "[SAMPLE] compute_interchange [{/luke-perm/taucmdr/examples/mm/matmult.c} {122}]",
          ".TAU application  => [CONTEXT] .TAU application  => [SAMPLE] compute_interchange [{/luke-perm/taucmdr/examples/mm/matmult.c} {122}]",
          ".TAU application  => [CONTEXT] .TAU application  => [SAMPLE] compute [{/luke-perm/taucmdr/examples/mm/matmult.c} {101}]",
          "[SAMPLE] compute [{/luke-perm/taucmdr/examples/mm/matmult.c} {101}]",
          ".TAU application"
         ]
        }
       ],
       "layout": {
        "autosize": true,
        "margin": {
         "b": 0,
         "l": 0,
         "r": 0,
         "t": 10
        },
        "template": {
         "data": {
          "bar": [
           {
            "error_x": {
             "color": "#2a3f5f"
            },
            "error_y": {
             "color": "#2a3f5f"
            },
            "marker": {
             "line": {
              "color": "#E5ECF6",
              "width": 0.5
             }
            },
            "type": "bar"
           }
          ],
          "barpolar": [
           {
            "marker": {
             "line": {
              "color": "#E5ECF6",
              "width": 0.5
             }
            },
            "type": "barpolar"
           }
          ],
          "carpet": [
           {
            "aaxis": {
             "endlinecolor": "#2a3f5f",
             "gridcolor": "white",
             "linecolor": "white",
             "minorgridcolor": "white",
             "startlinecolor": "#2a3f5f"
            },
            "baxis": {
             "endlinecolor": "#2a3f5f",
             "gridcolor": "white",
             "linecolor": "white",
             "minorgridcolor": "white",
             "startlinecolor": "#2a3f5f"
            },
            "type": "carpet"
           }
          ],
          "choropleth": [
           {
            "colorbar": {
             "outlinewidth": 0,
             "ticks": ""
            },
            "type": "choropleth"
           }
          ],
          "contour": [
           {
            "colorbar": {
             "outlinewidth": 0,
             "ticks": ""
            },
            "colorscale": [
             [
              0,
              "#0d0887"
             ],
             [
              0.1111111111111111,
              "#46039f"
             ],
             [
              0.2222222222222222,
              "#7201a8"
             ],
             [
              0.3333333333333333,
              "#9c179e"
             ],
             [
              0.4444444444444444,
              "#bd3786"
             ],
             [
              0.5555555555555556,
              "#d8576b"
             ],
             [
              0.6666666666666666,
              "#ed7953"
             ],
             [
              0.7777777777777778,
              "#fb9f3a"
             ],
             [
              0.8888888888888888,
              "#fdca26"
             ],
             [
              1,
              "#f0f921"
             ]
            ],
            "type": "contour"
           }
          ],
          "contourcarpet": [
           {
            "colorbar": {
             "outlinewidth": 0,
             "ticks": ""
            },
            "type": "contourcarpet"
           }
          ],
          "heatmap": [
           {
            "colorbar": {
             "outlinewidth": 0,
             "ticks": ""
            },
            "colorscale": [
             [
              0,
              "#0d0887"
             ],
             [
              0.1111111111111111,
              "#46039f"
             ],
             [
              0.2222222222222222,
              "#7201a8"
             ],
             [
              0.3333333333333333,
              "#9c179e"
             ],
             [
              0.4444444444444444,
              "#bd3786"
             ],
             [
              0.5555555555555556,
              "#d8576b"
             ],
             [
              0.6666666666666666,
              "#ed7953"
             ],
             [
              0.7777777777777778,
              "#fb9f3a"
             ],
             [
              0.8888888888888888,
              "#fdca26"
             ],
             [
              1,
              "#f0f921"
             ]
            ],
            "type": "heatmap"
           }
          ],
          "heatmapgl": [
           {
            "colorbar": {
             "outlinewidth": 0,
             "ticks": ""
            },
            "colorscale": [
             [
              0,
              "#0d0887"
             ],
             [
              0.1111111111111111,
              "#46039f"
             ],
             [
              0.2222222222222222,
              "#7201a8"
             ],
             [
              0.3333333333333333,
              "#9c179e"
             ],
             [
              0.4444444444444444,
              "#bd3786"
             ],
             [
              0.5555555555555556,
              "#d8576b"
             ],
             [
              0.6666666666666666,
              "#ed7953"
             ],
             [
              0.7777777777777778,
              "#fb9f3a"
             ],
             [
              0.8888888888888888,
              "#fdca26"
             ],
             [
              1,
              "#f0f921"
             ]
            ],
            "type": "heatmapgl"
           }
          ],
          "histogram": [
           {
            "marker": {
             "colorbar": {
              "outlinewidth": 0,
              "ticks": ""
             }
            },
            "type": "histogram"
           }
          ],
          "histogram2d": [
           {
            "colorbar": {
             "outlinewidth": 0,
             "ticks": ""
            },
            "colorscale": [
             [
              0,
              "#0d0887"
             ],
             [
              0.1111111111111111,
              "#46039f"
             ],
             [
              0.2222222222222222,
              "#7201a8"
             ],
             [
              0.3333333333333333,
              "#9c179e"
             ],
             [
              0.4444444444444444,
              "#bd3786"
             ],
             [
              0.5555555555555556,
              "#d8576b"
             ],
             [
              0.6666666666666666,
              "#ed7953"
             ],
             [
              0.7777777777777778,
              "#fb9f3a"
             ],
             [
              0.8888888888888888,
              "#fdca26"
             ],
             [
              1,
              "#f0f921"
             ]
            ],
            "type": "histogram2d"
           }
          ],
          "histogram2dcontour": [
           {
            "colorbar": {
             "outlinewidth": 0,
             "ticks": ""
            },
            "colorscale": [
             [
              0,
              "#0d0887"
             ],
             [
              0.1111111111111111,
              "#46039f"
             ],
             [
              0.2222222222222222,
              "#7201a8"
             ],
             [
              0.3333333333333333,
              "#9c179e"
             ],
             [
              0.4444444444444444,
              "#bd3786"
             ],
             [
              0.5555555555555556,
              "#d8576b"
             ],
             [
              0.6666666666666666,
              "#ed7953"
             ],
             [
              0.7777777777777778,
              "#fb9f3a"
             ],
             [
              0.8888888888888888,
              "#fdca26"
             ],
             [
              1,
              "#f0f921"
             ]
            ],
            "type": "histogram2dcontour"
           }
          ],
          "mesh3d": [
           {
            "colorbar": {
             "outlinewidth": 0,
             "ticks": ""
            },
            "type": "mesh3d"
           }
          ],
          "parcoords": [
           {
            "line": {
             "colorbar": {
              "outlinewidth": 0,
              "ticks": ""
             }
            },
            "type": "parcoords"
           }
          ],
          "pie": [
           {
            "automargin": true,
            "type": "pie"
           }
          ],
          "scatter": [
           {
            "marker": {
             "colorbar": {
              "outlinewidth": 0,
              "ticks": ""
             }
            },
            "type": "scatter"
           }
          ],
          "scatter3d": [
           {
            "line": {
             "colorbar": {
              "outlinewidth": 0,
              "ticks": ""
             }
            },
            "marker": {
             "colorbar": {
              "outlinewidth": 0,
              "ticks": ""
             }
            },
            "type": "scatter3d"
           }
          ],
          "scattercarpet": [
           {
            "marker": {
             "colorbar": {
              "outlinewidth": 0,
              "ticks": ""
             }
            },
            "type": "scattercarpet"
           }
          ],
          "scattergeo": [
           {
            "marker": {
             "colorbar": {
              "outlinewidth": 0,
              "ticks": ""
             }
            },
            "type": "scattergeo"
           }
          ],
          "scattergl": [
           {
            "marker": {
             "colorbar": {
              "outlinewidth": 0,
              "ticks": ""
             }
            },
            "type": "scattergl"
           }
          ],
          "scattermapbox": [
           {
            "marker": {
             "colorbar": {
              "outlinewidth": 0,
              "ticks": ""
             }
            },
            "type": "scattermapbox"
           }
          ],
          "scatterpolar": [
           {
            "marker": {
             "colorbar": {
              "outlinewidth": 0,
              "ticks": ""
             }
            },
            "type": "scatterpolar"
           }
          ],
          "scatterpolargl": [
           {
            "marker": {
             "colorbar": {
              "outlinewidth": 0,
              "ticks": ""
             }
            },
            "type": "scatterpolargl"
           }
          ],
          "scatterternary": [
           {
            "marker": {
             "colorbar": {
              "outlinewidth": 0,
              "ticks": ""
             }
            },
            "type": "scatterternary"
           }
          ],
          "surface": [
           {
            "colorbar": {
             "outlinewidth": 0,
             "ticks": ""
            },
            "colorscale": [
             [
              0,
              "#0d0887"
             ],
             [
              0.1111111111111111,
              "#46039f"
             ],
             [
              0.2222222222222222,
              "#7201a8"
             ],
             [
              0.3333333333333333,
              "#9c179e"
             ],
             [
              0.4444444444444444,
              "#bd3786"
             ],
             [
              0.5555555555555556,
              "#d8576b"
             ],
             [
              0.6666666666666666,
              "#ed7953"
             ],
             [
              0.7777777777777778,
              "#fb9f3a"
             ],
             [
              0.8888888888888888,
              "#fdca26"
             ],
             [
              1,
              "#f0f921"
             ]
            ],
            "type": "surface"
           }
          ],
          "table": [
           {
            "cells": {
             "fill": {
              "color": "#EBF0F8"
             },
             "line": {
              "color": "white"
             }
            },
            "header": {
             "fill": {
              "color": "#C8D4E3"
             },
             "line": {
              "color": "white"
             }
            },
            "type": "table"
           }
          ]
         },
         "layout": {
          "annotationdefaults": {
           "arrowcolor": "#2a3f5f",
           "arrowhead": 0,
           "arrowwidth": 1
          },
          "coloraxis": {
           "colorbar": {
            "outlinewidth": 0,
            "ticks": ""
           }
          },
          "colorscale": {
           "diverging": [
            [
             0,
             "#8e0152"
            ],
            [
             0.1,
             "#c51b7d"
            ],
            [
             0.2,
             "#de77ae"
            ],
            [
             0.3,
             "#f1b6da"
            ],
            [
             0.4,
             "#fde0ef"
            ],
            [
             0.5,
             "#f7f7f7"
            ],
            [
             0.6,
             "#e6f5d0"
            ],
            [
             0.7,
             "#b8e186"
            ],
            [
             0.8,
             "#7fbc41"
            ],
            [
             0.9,
             "#4d9221"
            ],
            [
             1,
             "#276419"
            ]
           ],
           "sequential": [
            [
             0,
             "#0d0887"
            ],
            [
             0.1111111111111111,
             "#46039f"
            ],
            [
             0.2222222222222222,
             "#7201a8"
            ],
            [
             0.3333333333333333,
             "#9c179e"
            ],
            [
             0.4444444444444444,
             "#bd3786"
            ],
            [
             0.5555555555555556,
             "#d8576b"
            ],
            [
             0.6666666666666666,
             "#ed7953"
            ],
            [
             0.7777777777777778,
             "#fb9f3a"
            ],
            [
             0.8888888888888888,
             "#fdca26"
            ],
            [
             1,
             "#f0f921"
            ]
           ],
           "sequentialminus": [
            [
             0,
             "#0d0887"
            ],
            [
             0.1111111111111111,
             "#46039f"
            ],
            [
             0.2222222222222222,
             "#7201a8"
            ],
            [
             0.3333333333333333,
             "#9c179e"
            ],
            [
             0.4444444444444444,
             "#bd3786"
            ],
            [
             0.5555555555555556,
             "#d8576b"
            ],
            [
             0.6666666666666666,
             "#ed7953"
            ],
            [
             0.7777777777777778,
             "#fb9f3a"
            ],
            [
             0.8888888888888888,
             "#fdca26"
            ],
            [
             1,
             "#f0f921"
            ]
           ]
          },
          "colorway": [
           "#636efa",
           "#EF553B",
           "#00cc96",
           "#ab63fa",
           "#FFA15A",
           "#19d3f3",
           "#FF6692",
           "#B6E880",
           "#FF97FF",
           "#FECB52"
          ],
          "font": {
           "color": "#2a3f5f"
          },
          "geo": {
           "bgcolor": "white",
           "lakecolor": "white",
           "landcolor": "#E5ECF6",
           "showlakes": true,
           "showland": true,
           "subunitcolor": "white"
          },
          "hoverlabel": {
           "align": "left"
          },
          "hovermode": "closest",
          "mapbox": {
           "style": "light"
          },
          "paper_bgcolor": "white",
          "plot_bgcolor": "#E5ECF6",
          "polar": {
           "angularaxis": {
            "gridcolor": "white",
            "linecolor": "white",
            "ticks": ""
           },
           "bgcolor": "#E5ECF6",
           "radialaxis": {
            "gridcolor": "white",
            "linecolor": "white",
            "ticks": ""
           }
          },
          "scene": {
           "xaxis": {
            "backgroundcolor": "#E5ECF6",
            "gridcolor": "white",
            "gridwidth": 2,
            "linecolor": "white",
            "showbackground": true,
            "ticks": "",
            "zerolinecolor": "white"
           },
           "yaxis": {
            "backgroundcolor": "#E5ECF6",
            "gridcolor": "white",
            "gridwidth": 2,
            "linecolor": "white",
            "showbackground": true,
            "ticks": "",
            "zerolinecolor": "white"
           },
           "zaxis": {
            "backgroundcolor": "#E5ECF6",
            "gridcolor": "white",
            "gridwidth": 2,
            "linecolor": "white",
            "showbackground": true,
            "ticks": "",
            "zerolinecolor": "white"
           }
          },
          "shapedefaults": {
           "line": {
            "color": "#2a3f5f"
           }
          },
          "ternary": {
           "aaxis": {
            "gridcolor": "white",
            "linecolor": "white",
            "ticks": ""
           },
           "baxis": {
            "gridcolor": "white",
            "linecolor": "white",
            "ticks": ""
           },
           "bgcolor": "#E5ECF6",
           "caxis": {
            "gridcolor": "white",
            "linecolor": "white",
            "ticks": ""
           }
          },
          "title": {
           "x": 0.05
          },
          "xaxis": {
           "automargin": true,
           "gridcolor": "white",
           "linecolor": "white",
           "ticks": "",
           "title": {
            "standoff": 15
           },
           "zerolinecolor": "white",
           "zerolinewidth": 2
          },
          "yaxis": {
           "automargin": true,
           "gridcolor": "white",
           "linecolor": "white",
           "ticks": "",
           "title": {
            "standoff": 15
           },
           "zerolinecolor": "white",
           "zerolinewidth": 2
          }
         }
        },
        "xaxis": {
         "range": [
          -247946.90000000002,
          3099336.25
         ],
         "type": "linear"
        },
        "yaxis": {
         "autorange": true,
         "range": [
          -0.5,
          22.5
         ],
         "type": "category"
        }
       }
      },
      "image/png": "[encoded data removed]",
      "text/html": [
       "<div>\n",
       "        \n",
       "        \n",
       "            <div id=\"fe68aca9-5835-4262-b62d-6d146c8c4f77\" class=\"plotly-graph-div\" style=\"height:575px; width:100%;\"></div>\n",
       "            <script type=\"text/javascript\">\n",
       "                require([\"plotly\"], function(Plotly) {\n",
       "                    window.PLOTLYENV=window.PLOTLYENV || {};\n",
       "                    \n",
       "                if (document.getElementById(\"fe68aca9-5835-4262-b62d-6d146c8c4f77\")) {\n",
       "                    Plotly.newPlot(\n",
       "                        'fe68aca9-5835-4262-b62d-6d146c8c4f77',\n",
       "                        [{\"marker\": {\"color\": [\"#1f77b4\", \"#aec7e8\", \"#ff7f0e\", \"#ffbb78\", \"#2ca02c\", \"#98df8a\", \"#d62728\", \"#ff9896\", \"#9467bd\", \"#c5b0d5\", \"#8c564b\", \"#c49c94\", \"#e377c2\", \"#f7b6d2\", \"#7f7f7f\", \"#c7c7c7\", \"#bcbd22\", \"#dbdb8d\", \"#17becf\", \"#9edae5\", \"#7fc97f\", \"#beaed4\", \"#fdc086\"]}, \"orientation\": \"h\", \"text\": [\"[CONTEXT] .TAU application\", \".TAU application  => [CONTEXT] .TAU application\", \".TAU application  => [CONTEXT] .TAU application  => [SAMPLE] initialize [{/luke-perm/taucmdr/examples/mm/matmult_initialize.c} {12}]\", \"[SAMPLE] initialize [{/luke-perm/taucmdr/examples/mm/matmult_initialize.c} {12}]\", \"[SAMPLE] sysmalloc [{malloc.c} {0}]\", \".TAU application  => [CONTEXT] .TAU application  => [SAMPLE] sysmalloc [{malloc.c} {0}]\", \"MPI_Init()  \", \".TAU application => MPI_Init()  \", \"[SAMPLE] compute_interchange [{/luke-perm/taucmdr/examples/mm/matmult.c} {120}]\", \".TAU application  => [CONTEXT] .TAU application  => [SAMPLE] compute_interchange [{/luke-perm/taucmdr/examples/mm/matmult.c} {120}]\", \".TAU application  => [CONTEXT] .TAU application  => [SAMPLE] compute [{/luke-perm/taucmdr/examples/mm/matmult.c} {99}]\", \"[SAMPLE] compute [{/luke-perm/taucmdr/examples/mm/matmult.c} {99}]\", \".TAU application  => [CONTEXT] .TAU application  => [SAMPLE] multiply [{/luke-perm/taucmdr/examples/mm/matmult.c} {59}]\", \"[SAMPLE] multiply [{/luke-perm/taucmdr/examples/mm/matmult.c} {59}]\", \".TAU application => MPI_Finalize()  \", \"MPI_Finalize()  \", \".TAU application  => [CONTEXT] .TAU application  => [SAMPLE] multiply [{/luke-perm/taucmdr/examples/mm/matmult.c} {60}]\", \"[SAMPLE] multiply [{/luke-perm/taucmdr/examples/mm/matmult.c} {60}]\", \"[SAMPLE] compute_interchange [{/luke-perm/taucmdr/examples/mm/matmult.c} {122}]\", \".TAU application  => [CONTEXT] .TAU application  => [SAMPLE] compute_interchange [{/luke-perm/taucmdr/examples/mm/matmult.c} {122}]\", \".TAU application  => [CONTEXT] .TAU application  => [SAMPLE] compute [{/luke-perm/taucmdr/examples/mm/matmult.c} {101}]\", \"[SAMPLE] compute [{/luke-perm/taucmdr/examples/mm/matmult.c} {101}]\", \".TAU application\"], \"textposition\": \"outside\", \"type\": \"bar\", \"x\": [0, 0, 4990, 4990, 5017, 5017, 25673, 25673, 50000, 50000, 59998, 59998, 155002, 155002, 193905, 193905, 474980, 474980, 640002, 640002, 1050011, 1050011, 2479469], \"y\": [\"[CONTEXT] .TAU application\", \".TAU application  => [CONTEXT] .TAU application\", \".TAU application  => [CONTEXT] .TAU application  => [SAMPLE] initialize [{/luke-perm/taucmdr/examples/mm/matmult_initialize.c} {12}]\", \"[SAMPLE] initialize [{/luke-perm/taucmdr/examples/mm/matmult_initialize.c} {12}]\", \"[SAMPLE] sysmalloc [{malloc.c} {0}]\", \".TAU application  => [CONTEXT] .TAU application  => [SAMPLE] sysmalloc [{malloc.c} {0}]\", \"MPI_Init()  \", \".TAU application => MPI_Init()  \", \"[SAMPLE] compute_interchange [{/luke-perm/taucmdr/examples/mm/matmult.c} {120}]\", \".TAU application  => [CONTEXT] .TAU application  => [SAMPLE] compute_interchange [{/luke-perm/taucmdr/examples/mm/matmult.c} {120}]\", \".TAU application  => [CONTEXT] .TAU application  => [SAMPLE] compute [{/luke-perm/taucmdr/examples/mm/matmult.c} {99}]\", \"[SAMPLE] compute [{/luke-perm/taucmdr/examples/mm/matmult.c} {99}]\", \".TAU application  => [CONTEXT] .TAU application  => [SAMPLE] multiply [{/luke-perm/taucmdr/examples/mm/matmult.c} {59}]\", \"[SAMPLE] multiply [{/luke-perm/taucmdr/examples/mm/matmult.c} {59}]\", \".TAU application => MPI_Finalize()  \", \"MPI_Finalize()  \", \".TAU application  => [CONTEXT] .TAU application  => [SAMPLE] multiply [{/luke-perm/taucmdr/examples/mm/matmult.c} {60}]\", \"[SAMPLE] multiply [{/luke-perm/taucmdr/examples/mm/matmult.c} {60}]\", \"[SAMPLE] compute_interchange [{/luke-perm/taucmdr/examples/mm/matmult.c} {122}]\", \".TAU application  => [CONTEXT] .TAU application  => [SAMPLE] compute_interchange [{/luke-perm/taucmdr/examples/mm/matmult.c} {122}]\", \".TAU application  => [CONTEXT] .TAU application  => [SAMPLE] compute [{/luke-perm/taucmdr/examples/mm/matmult.c} {101}]\", \"[SAMPLE] compute [{/luke-perm/taucmdr/examples/mm/matmult.c} {101}]\", \".TAU application\"]}],\n",
       "                        {\"autosize\": true, \"height\": 575, \"margin\": {\"b\": 0, \"l\": 0, \"r\": 0, \"t\": 10}, \"template\": {\"data\": {\"bar\": [{\"error_x\": {\"color\": \"#2a3f5f\"}, \"error_y\": {\"color\": \"#2a3f5f\"}, \"marker\": {\"line\": {\"color\": \"#E5ECF6\", \"width\": 0.5}}, \"type\": \"bar\"}], \"barpolar\": [{\"marker\": {\"line\": {\"color\": \"#E5ECF6\", \"width\": 0.5}}, \"type\": \"barpolar\"}], \"carpet\": [{\"aaxis\": {\"endlinecolor\": \"#2a3f5f\", \"gridcolor\": \"white\", \"linecolor\": \"white\", \"minorgridcolor\": \"white\", \"startlinecolor\": \"#2a3f5f\"}, \"baxis\": {\"endlinecolor\": \"#2a3f5f\", \"gridcolor\": \"white\", \"linecolor\": \"white\", \"minorgridcolor\": \"white\", \"startlinecolor\": \"#2a3f5f\"}, \"type\": \"carpet\"}], \"choropleth\": [{\"colorbar\": {\"outlinewidth\": 0, \"ticks\": \"\"}, \"type\": \"choropleth\"}], \"contour\": [{\"colorbar\": {\"outlinewidth\": 0, \"ticks\": \"\"}, \"colorscale\": [[0.0, \"#0d0887\"], [0.1111111111111111, \"#46039f\"], [0.2222222222222222, \"#7201a8\"], [0.3333333333333333, \"#9c179e\"], [0.4444444444444444, \"#bd3786\"], [0.5555555555555556, \"#d8576b\"], [0.6666666666666666, \"#ed7953\"], [0.7777777777777778, \"#fb9f3a\"], [0.8888888888888888, \"#fdca26\"], [1.0, \"#f0f921\"]], \"type\": \"contour\"}], \"contourcarpet\": [{\"colorbar\": {\"outlinewidth\": 0, \"ticks\": \"\"}, \"type\": \"contourcarpet\"}], \"heatmap\": [{\"colorbar\": {\"outlinewidth\": 0, \"ticks\": \"\"}, \"colorscale\": [[0.0, \"#0d0887\"], [0.1111111111111111, \"#46039f\"], [0.2222222222222222, \"#7201a8\"], [0.3333333333333333, \"#9c179e\"], [0.4444444444444444, \"#bd3786\"], [0.5555555555555556, \"#d8576b\"], [0.6666666666666666, \"#ed7953\"], [0.7777777777777778, \"#fb9f3a\"], [0.8888888888888888, \"#fdca26\"], [1.0, \"#f0f921\"]], \"type\": \"heatmap\"}], \"heatmapgl\": [{\"colorbar\": {\"outlinewidth\": 0, \"ticks\": \"\"}, \"colorscale\": [[0.0, \"#0d0887\"], [0.1111111111111111, \"#46039f\"], [0.2222222222222222, \"#7201a8\"], [0.3333333333333333, \"#9c179e\"], [0.4444444444444444, \"#bd3786\"], [0.5555555555555556, \"#d8576b\"], [0.6666666666666666, \"#ed7953\"], [0.7777777777777778, \"#fb9f3a\"], [0.8888888888888888, \"#fdca26\"], [1.0, \"#f0f921\"]], \"type\": \"heatmapgl\"}], \"histogram\": [{\"marker\": {\"colorbar\": {\"outlinewidth\": 0, \"ticks\": \"\"}}, \"type\": \"histogram\"}], \"histogram2d\": [{\"colorbar\": {\"outlinewidth\": 0, \"ticks\": \"\"}, \"colorscale\": [[0.0, \"#0d0887\"], [0.1111111111111111, \"#46039f\"], [0.2222222222222222, \"#7201a8\"], [0.3333333333333333, \"#9c179e\"], [0.4444444444444444, \"#bd3786\"], [0.5555555555555556, \"#d8576b\"], [0.6666666666666666, \"#ed7953\"], [0.7777777777777778, \"#fb9f3a\"], [0.8888888888888888, \"#fdca26\"], [1.0, \"#f0f921\"]], \"type\": \"histogram2d\"}], \"histogram2dcontour\": [{\"colorbar\": {\"outlinewidth\": 0, \"ticks\": \"\"}, \"colorscale\": [[0.0, \"#0d0887\"], [0.1111111111111111, \"#46039f\"], [0.2222222222222222, \"#7201a8\"], [0.3333333333333333, \"#9c179e\"], [0.4444444444444444, \"#bd3786\"], [0.5555555555555556, \"#d8576b\"], [0.6666666666666666, \"#ed7953\"], [0.7777777777777778, \"#fb9f3a\"], [0.8888888888888888, \"#fdca26\"], [1.0, \"#f0f921\"]], \"type\": \"histogram2dcontour\"}], \"mesh3d\": [{\"colorbar\": {\"outlinewidth\": 0, \"ticks\": \"\"}, \"type\": \"mesh3d\"}], \"parcoords\": [{\"line\": {\"colorbar\": {\"outlinewidth\": 0, \"ticks\": \"\"}}, \"type\": \"parcoords\"}], \"pie\": [{\"automargin\": true, \"type\": \"pie\"}], \"scatter\": [{\"marker\": {\"colorbar\": {\"outlinewidth\": 0, \"ticks\": \"\"}}, \"type\": \"scatter\"}], \"scatter3d\": [{\"line\": {\"colorbar\": {\"outlinewidth\": 0, \"ticks\": \"\"}}, \"marker\": {\"colorbar\": {\"outlinewidth\": 0, \"ticks\": \"\"}}, \"type\": \"scatter3d\"}], \"scattercarpet\": [{\"marker\": {\"colorbar\": {\"outlinewidth\": 0, \"ticks\": \"\"}}, \"type\": \"scattercarpet\"}], \"scattergeo\": [{\"marker\": {\"colorbar\": {\"outlinewidth\": 0, \"ticks\": \"\"}}, \"type\": \"scattergeo\"}], \"scattergl\": [{\"marker\": {\"colorbar\": {\"outlinewidth\": 0, \"ticks\": \"\"}}, \"type\": \"scattergl\"}], \"scattermapbox\": [{\"marker\": {\"colorbar\": {\"outlinewidth\": 0, \"ticks\": \"\"}}, \"type\": \"scattermapbox\"}], \"scatterpolar\": [{\"marker\": {\"colorbar\": {\"outlinewidth\": 0, \"ticks\": \"\"}}, \"type\": \"scatterpolar\"}], \"scatterpolargl\": [{\"marker\": {\"colorbar\": {\"outlinewidth\": 0, \"ticks\": \"\"}}, \"type\": \"scatterpolargl\"}], \"scatterternary\": [{\"marker\": {\"colorbar\": {\"outlinewidth\": 0, \"ticks\": \"\"}}, \"type\": \"scatterternary\"}], \"surface\": [{\"colorbar\": {\"outlinewidth\": 0, \"ticks\": \"\"}, \"colorscale\": [[0.0, \"#0d0887\"], [0.1111111111111111, \"#46039f\"], [0.2222222222222222, \"#7201a8\"], [0.3333333333333333, \"#9c179e\"], [0.4444444444444444, \"#bd3786\"], [0.5555555555555556, \"#d8576b\"], [0.6666666666666666, \"#ed7953\"], [0.7777777777777778, \"#fb9f3a\"], [0.8888888888888888, \"#fdca26\"], [1.0, \"#f0f921\"]], \"type\": \"surface\"}], \"table\": [{\"cells\": {\"fill\": {\"color\": \"#EBF0F8\"}, \"line\": {\"color\": \"white\"}}, \"header\": {\"fill\": {\"color\": \"#C8D4E3\"}, \"line\": {\"color\": \"white\"}}, \"type\": \"table\"}]}, \"layout\": {\"annotationdefaults\": {\"arrowcolor\": \"#2a3f5f\", \"arrowhead\": 0, \"arrowwidth\": 1}, \"coloraxis\": {\"colorbar\": {\"outlinewidth\": 0, \"ticks\": \"\"}}, \"colorscale\": {\"diverging\": [[0, \"#8e0152\"], [0.1, \"#c51b7d\"], [0.2, \"#de77ae\"], [0.3, \"#f1b6da\"], [0.4, \"#fde0ef\"], [0.5, \"#f7f7f7\"], [0.6, \"#e6f5d0\"], [0.7, \"#b8e186\"], [0.8, \"#7fbc41\"], [0.9, \"#4d9221\"], [1, \"#276419\"]], \"sequential\": [[0.0, \"#0d0887\"], [0.1111111111111111, \"#46039f\"], [0.2222222222222222, \"#7201a8\"], [0.3333333333333333, \"#9c179e\"], [0.4444444444444444, \"#bd3786\"], [0.5555555555555556, \"#d8576b\"], [0.6666666666666666, \"#ed7953\"], [0.7777777777777778, \"#fb9f3a\"], [0.8888888888888888, \"#fdca26\"], [1.0, \"#f0f921\"]], \"sequentialminus\": [[0.0, \"#0d0887\"], [0.1111111111111111, \"#46039f\"], [0.2222222222222222, \"#7201a8\"], [0.3333333333333333, \"#9c179e\"], [0.4444444444444444, \"#bd3786\"], [0.5555555555555556, \"#d8576b\"], [0.6666666666666666, \"#ed7953\"], [0.7777777777777778, \"#fb9f3a\"], [0.8888888888888888, \"#fdca26\"], [1.0, \"#f0f921\"]]}, \"colorway\": [\"#636efa\", \"#EF553B\", \"#00cc96\", \"#ab63fa\", \"#FFA15A\", \"#19d3f3\", \"#FF6692\", \"#B6E880\", \"#FF97FF\", \"#FECB52\"], \"font\": {\"color\": \"#2a3f5f\"}, \"geo\": {\"bgcolor\": \"white\", \"lakecolor\": \"white\", \"landcolor\": \"#E5ECF6\", \"showlakes\": true, \"showland\": true, \"subunitcolor\": \"white\"}, \"hoverlabel\": {\"align\": \"left\"}, \"hovermode\": \"closest\", \"mapbox\": {\"style\": \"light\"}, \"paper_bgcolor\": \"white\", \"plot_bgcolor\": \"#E5ECF6\", \"polar\": {\"angularaxis\": {\"gridcolor\": \"white\", \"linecolor\": \"white\", \"ticks\": \"\"}, \"bgcolor\": \"#E5ECF6\", \"radialaxis\": {\"gridcolor\": \"white\", \"linecolor\": \"white\", \"ticks\": \"\"}}, \"scene\": {\"xaxis\": {\"backgroundcolor\": \"#E5ECF6\", \"gridcolor\": \"white\", \"gridwidth\": 2, \"linecolor\": \"white\", \"showbackground\": true, \"ticks\": \"\", \"zerolinecolor\": \"white\"}, \"yaxis\": {\"backgroundcolor\": \"#E5ECF6\", \"gridcolor\": \"white\", \"gridwidth\": 2, \"linecolor\": \"white\", \"showbackground\": true, \"ticks\": \"\", \"zerolinecolor\": \"white\"}, \"zaxis\": {\"backgroundcolor\": \"#E5ECF6\", \"gridcolor\": \"white\", \"gridwidth\": 2, \"linecolor\": \"white\", \"showbackground\": true, \"ticks\": \"\", \"zerolinecolor\": \"white\"}}, \"shapedefaults\": {\"line\": {\"color\": \"#2a3f5f\"}}, \"ternary\": {\"aaxis\": {\"gridcolor\": \"white\", \"linecolor\": \"white\", \"ticks\": \"\"}, \"baxis\": {\"gridcolor\": \"white\", \"linecolor\": \"white\", \"ticks\": \"\"}, \"bgcolor\": \"#E5ECF6\", \"caxis\": {\"gridcolor\": \"white\", \"linecolor\": \"white\", \"ticks\": \"\"}}, \"title\": {\"x\": 0.05}, \"xaxis\": {\"automargin\": true, \"gridcolor\": \"white\", \"linecolor\": \"white\", \"ticks\": \"\", \"title\": {\"standoff\": 15}, \"zerolinecolor\": \"white\", \"zerolinewidth\": 2}, \"yaxis\": {\"automargin\": true, \"gridcolor\": \"white\", \"linecolor\": \"white\", \"ticks\": \"\", \"title\": {\"standoff\": 15}, \"zerolinecolor\": \"white\", \"zerolinewidth\": 2}}}, \"xaxis\": {\"range\": [-247946.90000000002, 3099336.25]}},\n",
       "                        {\"responsive\": true}\n",
       "                    ).then(function(){\n",
       "                            \n",
       "var gd = document.getElementById('fe68aca9-5835-4262-b62d-6d146c8c4f77');\n",
       "var x = new MutationObserver(function (mutations, observer) {{\n",
       "        var display = window.getComputedStyle(gd).display;\n",
       "        if (!display || display === 'none') {{\n",
       "            console.log([gd, 'removed!']);\n",
       "            Plotly.purge(gd);\n",
       "            observer.disconnect();\n",
       "        }}\n",
       "}});\n",
       "\n",
       "// Listen for the removal of the full notebook cells\n",
       "var notebookContainer = gd.closest('#notebook-container');\n",
       "if (notebookContainer) {{\n",
       "    x.observe(notebookContainer, {childList: true});\n",
       "}}\n",
       "\n",
       "// Listen for the clearing of the current output cell\n",
       "var outputEl = gd.closest('.output');\n",
       "if (outputEl) {{\n",
       "    x.observe(outputEl, {childList: true});\n",
       "}}\n",
       "\n",
       "                        })\n",
       "                };\n",
       "                });\n",
       "            </script>\n",
       "        </div>"
      ]
     },
     "metadata": {},
     "output_type": "display_data"
    }
   ],
   "source": [
    "# Profile Bar Plot\n",
    "colors_str = \"#1f77b4,#aec7e8,#ff7f0e,#ffbb78,#2ca02c,#98df8a,#d62728,#ff9896,#9467bd,#c5b0d5,#8c564b,#c49c94,#e377c2,#f7b6d2,#7f7f7f,#c7c7c7,#bcbd22,#dbdb8d,#17becf,#9edae5,#7fc97f,#beaed4,#fdc086,#ffff99,#386cb0,#f0027f,#bf5b17,#666666,#1b9e77,#d95f02,#7570b3,#e7298a,#66a61e,#e6ab02,#a6761d,#666666,#fbb4ae,#b3cde3,#ccebc5,#decbe4,#fed9a6,#ffffcc,#e5d8bd,#fddaec,#f2f2f2,#393b79,#5254a3,#6b6ecf,#9c9ede,#637939,#8ca252,#b5cf6b,#cedb9c,#8c6d31,#bd9e39,#e7ba52,#e7cb94,#843c39,#ad494a,#d6616b,#e7969c,#7b4173,#a55194,#ce6dbd,#de9ed6,#8dd3c7,#ffffb3,#bebada,#fb8072,#80b1d3,#fdb462,#b3de69,#fccde5,#d9d9d9,#bc80bd,#ccebc5,#ffed6f,#3182bd,#6baed6,#9ecae1,#c6dbef,#e6550d,#fd8d3c,#fdae6b,#fdd0a2,#31a354,#74c476,#a1d99b,#c7e9c0,#756bb1,#9e9ac8,#bcbddc,#dadaeb,#636363,#969696,#bdbdbd,#d9d9d9\"\n",
    "colors = colors_str.split(',')\n",
    "\n",
    "indices = (0, 0, 0)\n",
    "metric = 'Exclusive'\n",
    "\n",
    "profile = TauProfileParser.parse('mpi-profile-example')\n",
    "idata = profile.interval_data()\n",
    "\n",
    "ds = idata.loc[indices][[metric]].sort_values(metric)\n",
    "maxval = ds[metric].max()\n",
    "nrows = ds.shape[0]\n",
    "\n",
    "data = [\n",
    "    pgo.Bar(\n",
    "        x = ds[metric],\n",
    "        y = ds.index.values,\n",
    "        orientation = 'h',\n",
    "        marker = dict(color = colors[:nrows]),\n",
    "        text = ds.index.values,\n",
    "        textposition = 'outside'\n",
    "    )]\n",
    "\n",
    "layout = pgo.Layout(\n",
    "    autosize = True,\n",
    "    height = 25 * nrows,\n",
    "    margin = pgo.layout.Margin(l = 0, r = 0, b = 0, t = 10),\n",
    "    xaxis = dict(range = (maxval * -0.1, maxval * 1.25)))\n",
    "\n",
    "pgo.Figure(data = data, layout = layout)"
   ]
  },
  {
   "cell_type": "code",
   "execution_count": 4,
   "metadata": {},
   "outputs": [
    {
     "ename": "KeyError",
     "evalue": "1",
     "output_type": "error",
     "traceback": [
      "\u001b[0;31m---------------------------------------------------------------------------\u001b[0m",
      "\u001b[0;31mKeyError\u001b[0m                                  Traceback (most recent call last)",
      "\u001b[0;32m<ipython-input-4-345064b2d6ac>\u001b[0m in \u001b[0;36m<module>\u001b[0;34m()\u001b[0m\n\u001b[1;32m     11\u001b[0m \u001b[0mprofile_sums\u001b[0m\u001b[0;34m.\u001b[0m\u001b[0mappend\u001b[0m\u001b[0;34m(\u001b[0m\u001b[0mprofile_sum\u001b[0m\u001b[0;34m)\u001b[0m\u001b[0;34m\u001b[0m\u001b[0m\n\u001b[1;32m     12\u001b[0m \u001b[0;34m\u001b[0m\u001b[0m\n\u001b[0;32m---> 13\u001b[0;31m \u001b[0mtimer_by_cores\u001b[0m \u001b[0;34m=\u001b[0m \u001b[0mpd\u001b[0m\u001b[0;34m.\u001b[0m\u001b[0mconcat\u001b[0m\u001b[0;34m(\u001b[0m\u001b[0mprofile_sums\u001b[0m\u001b[0;34m,\u001b[0m \u001b[0maxis\u001b[0m \u001b[0;34m=\u001b[0m \u001b[0;36m1\u001b[0m\u001b[0;34m)\u001b[0m\u001b[0;34m.\u001b[0m\u001b[0msort_values\u001b[0m\u001b[0;34m(\u001b[0m\u001b[0;36m1\u001b[0m\u001b[0;34m,\u001b[0m \u001b[0maxis\u001b[0m \u001b[0;34m=\u001b[0m \u001b[0;36m0\u001b[0m\u001b[0;34m,\u001b[0m \u001b[0mascending\u001b[0m \u001b[0;34m=\u001b[0m \u001b[0mFalse\u001b[0m\u001b[0;34m)\u001b[0m\u001b[0;34m.\u001b[0m\u001b[0mloc\u001b[0m\u001b[0;34m[\u001b[0m\u001b[0mmetric\u001b[0m\u001b[0;34m]\u001b[0m\u001b[0;34m\u001b[0m\u001b[0m\n\u001b[0m",
      "\u001b[0;32m/home/walker/miniconda3/envs/py27/lib/python2.7/site-packages/pandas/core/frame.pyc\u001b[0m in \u001b[0;36msort_values\u001b[0;34m(self, by, axis, ascending, inplace, kind, na_position)\u001b[0m\n\u001b[1;32m   4717\u001b[0m \u001b[0;34m\u001b[0m\u001b[0m\n\u001b[1;32m   4718\u001b[0m             \u001b[0mby\u001b[0m \u001b[0;34m=\u001b[0m \u001b[0mby\u001b[0m\u001b[0;34m[\u001b[0m\u001b[0;36m0\u001b[0m\u001b[0;34m]\u001b[0m\u001b[0;34m\u001b[0m\u001b[0m\n\u001b[0;32m-> 4719\u001b[0;31m             \u001b[0mk\u001b[0m \u001b[0;34m=\u001b[0m \u001b[0mself\u001b[0m\u001b[0;34m.\u001b[0m\u001b[0m_get_label_or_level_values\u001b[0m\u001b[0;34m(\u001b[0m\u001b[0mby\u001b[0m\u001b[0;34m,\u001b[0m \u001b[0maxis\u001b[0m\u001b[0;34m=\u001b[0m\u001b[0maxis\u001b[0m\u001b[0;34m)\u001b[0m\u001b[0;34m\u001b[0m\u001b[0m\n\u001b[0m\u001b[1;32m   4720\u001b[0m \u001b[0;34m\u001b[0m\u001b[0m\n\u001b[1;32m   4721\u001b[0m             \u001b[0;32mif\u001b[0m \u001b[0misinstance\u001b[0m\u001b[0;34m(\u001b[0m\u001b[0mascending\u001b[0m\u001b[0;34m,\u001b[0m \u001b[0;34m(\u001b[0m\u001b[0mtuple\u001b[0m\u001b[0;34m,\u001b[0m \u001b[0mlist\u001b[0m\u001b[0;34m)\u001b[0m\u001b[0;34m)\u001b[0m\u001b[0;34m:\u001b[0m\u001b[0;34m\u001b[0m\u001b[0m\n",
      "\u001b[0;32m/home/walker/miniconda3/envs/py27/lib/python2.7/site-packages/pandas/core/generic.pyc\u001b[0m in \u001b[0;36m_get_label_or_level_values\u001b[0;34m(self, key, axis)\u001b[0m\n\u001b[1;32m   1704\u001b[0m             \u001b[0mvalues\u001b[0m \u001b[0;34m=\u001b[0m \u001b[0mself\u001b[0m\u001b[0;34m.\u001b[0m\u001b[0maxes\u001b[0m\u001b[0;34m[\u001b[0m\u001b[0maxis\u001b[0m\u001b[0;34m]\u001b[0m\u001b[0;34m.\u001b[0m\u001b[0mget_level_values\u001b[0m\u001b[0;34m(\u001b[0m\u001b[0mkey\u001b[0m\u001b[0;34m)\u001b[0m\u001b[0;34m.\u001b[0m\u001b[0m_values\u001b[0m\u001b[0;34m\u001b[0m\u001b[0m\n\u001b[1;32m   1705\u001b[0m         \u001b[0;32melse\u001b[0m\u001b[0;34m:\u001b[0m\u001b[0;34m\u001b[0m\u001b[0m\n\u001b[0;32m-> 1706\u001b[0;31m             \u001b[0;32mraise\u001b[0m \u001b[0mKeyError\u001b[0m\u001b[0;34m(\u001b[0m\u001b[0mkey\u001b[0m\u001b[0;34m)\u001b[0m\u001b[0;34m\u001b[0m\u001b[0m\n\u001b[0m\u001b[1;32m   1707\u001b[0m \u001b[0;34m\u001b[0m\u001b[0m\n\u001b[1;32m   1708\u001b[0m         \u001b[0;31m# Check for duplicates\u001b[0m\u001b[0;34m\u001b[0m\u001b[0;34m\u001b[0m\u001b[0m\n",
      "\u001b[0;31mKeyError\u001b[0m: 1"
     ]
    }
   ],
   "source": [
    "# Runtime Breakdown Plot\n",
    "metric = \"Exclusive\"\n",
    "\n",
    "profile_sums = []\n",
    "\n",
    "profile = TauProfileParser.parse('mpi-profile-example')\n",
    "idata = profile.interval_data()\n",
    "mdata = idata[[metric]].unstack()\n",
    "num_cores = mdata.shape[0]\n",
    "profile_sum = mdata.sum(level = 1).transpose().rename(columns = {0: num_cores})\n",
    "profile_sums.append(profile_sum)\n",
    "\n",
    "timer_by_cores = pd.concat(profile_sums, axis = 1).sort_values(1, axis = 0, ascending = False).loc[metric]"
   ]
  },
  {
   "cell_type": "code",
   "execution_count": null,
   "metadata": {},
   "outputs": [],
   "source": []
  }
 ],
 "metadata": {
  "kernelspec": {
   "display_name": "Python 2",
   "language": "python",
   "name": "python2"
  },
  "language_info": {
   "codemirror_mode": {
    "name": "ipython",
    "version": 2
   },
   "file_extension": ".py",
   "mimetype": "text/x-python",
   "name": "python",
   "nbconvert_exporter": "python",
   "pygments_lexer": "ipython2",
   "version": "2.7.18"
  }
 },
 "nbformat": 4,
 "nbformat_minor": 4
}
