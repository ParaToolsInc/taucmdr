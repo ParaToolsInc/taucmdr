{
 "cells": [
  {
   "cell_type": "markdown",
   "metadata": {},
   "source": [
    "We first want to set env variables as is done in the tau bash script. First we determine where the tau package lives since it is usually in peoples path."
   ]
  },
  {
   "cell_type": "code",
   "execution_count": 1,
   "metadata": {
    "collapsed": true
   },
   "outputs": [],
   "source": [
    "import os,sys,subprocess"
   ]
  },
  {
   "cell_type": "code",
   "execution_count": 2,
   "metadata": {
    "collapsed": false
   },
   "outputs": [
    {
     "name": "stdout",
     "output_type": "stream",
     "text": [
      "/Users/srinathv/Repos/taucmdr/bin/tau\n",
      "/Users/srinathv/Repos/taucmdr\n",
      "/Users/srinathv/Repos/taucmdr/packages\n"
     ]
    }
   ],
   "source": [
    "tauLoc=subprocess.Popen([\"bash\",\"-c\",\"which tau\"],\n",
    "                       shell=False,stdout=subprocess.PIPE).communicate()[0].replace(\"\\n\",\"\")\n",
    "tauHome=tauLoc.replace(\"/bin/tau\",\"\")\n",
    "tauPackages=tauHome+\"/packages\"\n",
    "print tauLoc\n",
    "print tauHome\n",
    "print tauPackages"
   ]
  },
  {
   "cell_type": "markdown",
   "metadata": {},
   "source": [
    "Now we export environment variables of which the tau python code uses."
   ]
  },
  {
   "cell_type": "code",
   "execution_count": 3,
   "metadata": {
    "collapsed": false
   },
   "outputs": [],
   "source": [
    "os.environ[\"__TAU_HOME__\"]=tauHome\n",
    "os.environ[\"__TAU_SCRIPT__\"]=tauLoc"
   ]
  },
  {
   "cell_type": "markdown",
   "metadata": {},
   "source": [
    "Now we need to prepend that path to import all the modules."
   ]
  },
  {
   "cell_type": "code",
   "execution_count": 4,
   "metadata": {
    "collapsed": false
   },
   "outputs": [
    {
     "data": {
      "text/plain": [
       "['/Users/srinathv/Repos/taucmdr/packages',\n",
       " '',\n",
       " '/Users/srinathv/Repos/jupyter-examples/ipywidgets',\n",
       " '/usr/local/lib/python',\n",
       " '/Users/srinathv/software/lib/python2.7/site-packages',\n",
       " '/Users/srinathv/Repos/taucmdr/examples/notebooks',\n",
       " '/usr/local/Cellar/python/2.7.10_2/Frameworks/Python.framework/Versions/2.7/lib/python27.zip',\n",
       " '/usr/local/Cellar/python/2.7.10_2/Frameworks/Python.framework/Versions/2.7/lib/python2.7',\n",
       " '/usr/local/Cellar/python/2.7.10_2/Frameworks/Python.framework/Versions/2.7/lib/python2.7/plat-darwin',\n",
       " '/usr/local/Cellar/python/2.7.10_2/Frameworks/Python.framework/Versions/2.7/lib/python2.7/plat-mac',\n",
       " '/usr/local/Cellar/python/2.7.10_2/Frameworks/Python.framework/Versions/2.7/lib/python2.7/plat-mac/lib-scriptpackages',\n",
       " '/usr/local/Cellar/python/2.7.10_2/Frameworks/Python.framework/Versions/2.7/lib/python2.7/lib-tk',\n",
       " '/usr/local/Cellar/python/2.7.10_2/Frameworks/Python.framework/Versions/2.7/lib/python2.7/lib-old',\n",
       " '/usr/local/Cellar/python/2.7.10_2/Frameworks/Python.framework/Versions/2.7/lib/python2.7/lib-dynload',\n",
       " '/usr/local/lib/python2.7/site-packages',\n",
       " '/usr/local/Cellar/matplotlib/1.4.3/libexec/lib/python2.7/site-packages',\n",
       " '/Library/Python/2.7/site-packages',\n",
       " '/usr/local/lib/python2.7/site-packages/IPython/extensions',\n",
       " '/Users/srinathv/.ipython']"
      ]
     },
     "execution_count": 4,
     "metadata": {},
     "output_type": "execute_result"
    }
   ],
   "source": [
    "sys.path.insert(0,tauPackages)\n",
    "sys.path"
   ]
  },
  {
   "cell_type": "code",
   "execution_count": 5,
   "metadata": {
    "collapsed": false
   },
   "outputs": [
    {
     "name": "stderr",
     "output_type": "stream",
     "text": [
      "DEBUG:tau:\n",
      "#######################################################################################################################################\n",
      "TAU COMMANDER LOGGING INITIALIZED\n",
      "\n",
      "Timestamp         : 2015-08-25 09:16:35.394652\n",
      "Hostname          : Paratools-SV-iMac.local\n",
      "Platform          : Darwin-14.5.0-x86_64-i386-64bit\n",
      "Python Version    : 2.7.10\n",
      "Working Directory : /Users/srinathv/Repos/taucmdr/examples/notebooks\n",
      "Terminal Size     : 127x62\n",
      "#########################################################################################################################\n",
      "\n",
      "DEBUG:tau.storage:Opened '/Users/srinathv/.tau/local.json' for read/write\n",
      "DEBUG:tau.storage:Opened '/Users/srinathv/Repos/taucmdr/.system/local.json' for read/write\n"
     ]
    }
   ],
   "source": [
    "import tau\n",
    "import tau.model.target as target"
   ]
  },
  {
   "cell_type": "code",
   "execution_count": 6,
   "metadata": {
    "collapsed": false
   },
   "outputs": [
    {
     "data": {
      "text/plain": [
       "{'CC': {'argparse': {'flags': ('--cc',),\n",
       "   'group': 'compiler',\n",
       "   'metavar': '<command>'},\n",
       "  'description': 'C compiler command',\n",
       "  'model': 'Compiler',\n",
       "  'required': True},\n",
       " 'CXX': {'argparse': {'flags': ('--cxx',),\n",
       "   'group': 'compiler',\n",
       "   'metavar': '<command>'},\n",
       "  'description': 'C++ compiler command',\n",
       "  'model': 'Compiler',\n",
       "  'required': True},\n",
       " 'FC': {'argparse': {'flags': ('--fc',),\n",
       "   'group': 'compiler',\n",
       "   'metavar': '<command>'},\n",
       "  'description': 'Fortran compiler command',\n",
       "  'model': 'Compiler',\n",
       "  'required': True},\n",
       " 'MPI_CC': {'argparse': {'flags': ('--mpi-cc',),\n",
       "   'group': 'Message Passing Interface (MPI)',\n",
       "   'metavar': '<command>'},\n",
       "  'description': 'MPI C compiler command',\n",
       "  'model': 'Compiler',\n",
       "  'required': False},\n",
       " 'MPI_CXX': {'argparse': {'flags': ('--mpi-cxx',),\n",
       "   'group': 'Message Passing Interface (MPI)',\n",
       "   'metavar': '<command>'},\n",
       "  'description': 'MPI C++ compiler command',\n",
       "  'model': 'Compiler',\n",
       "  'required': False},\n",
       " 'MPI_FC': {'argparse': {'flags': ('--mpi-fc',),\n",
       "   'group': 'Message Passing Interface (MPI)',\n",
       "   'metavar': '<command>'},\n",
       "  'description': 'MPI Fortran compiler command',\n",
       "  'model': 'Compiler',\n",
       "  'required': False},\n",
       " 'UPC': {'argparse': {'flags': ('--upc',),\n",
       "   'group': 'Universal Parallel C',\n",
       "   'metavar': '<command>'},\n",
       "  'description': 'Universal Parallel C compiler command',\n",
       "  'model': 'Compiler',\n",
       "  'required': False},\n",
       " 'binutils_source': {'argparse': {'action': tau.arguments.ParsePackagePathAction,\n",
       "   'flags': ('--binutils',),\n",
       "   'group': 'software package',\n",
       "   'metavar': '(<path>|<url>|download|None)'},\n",
       "  'default': 'download',\n",
       "  'description': 'path or URL to a GNU binutils installation or archive file',\n",
       "  'type': 'string'},\n",
       " 'cuda': {'argparse': {'action': tau.arguments.ParsePackagePathAction,\n",
       "   'flags': ('--cuda',),\n",
       "   'group': 'software package',\n",
       "   'metavar': '<path>'},\n",
       "  'description': 'path to NVIDIA CUDA installation',\n",
       "  'type': 'string'},\n",
       " 'host_arch': {'argparse': {'choices': ['bgp', 'x86_64', 'knl', 'knc', 'bgq'],\n",
       "   'flags': ('--host-arch',),\n",
       "   'group': 'target system',\n",
       "   'metavar': '<arch>'},\n",
       "  'default': 'x86_64',\n",
       "  'description': 'host architecture',\n",
       "  'required': True,\n",
       "  'type': 'string'},\n",
       " 'host_os': {'argparse': {'choices': ['CNL', 'Darwin', 'CNK', 'Linux'],\n",
       "   'flags': ('--host-os',),\n",
       "   'group': 'target system',\n",
       "   'metavar': '<os>'},\n",
       "  'default': 'Darwin',\n",
       "  'description': 'host operating system',\n",
       "  'required': True,\n",
       "  'type': 'string'},\n",
       " 'libunwind_source': {'argparse': {'action': tau.arguments.ParsePackagePathAction,\n",
       "   'flags': ('--libunwind',),\n",
       "   'group': 'software package',\n",
       "   'metavar': '(<path>|<url>|download|None)'},\n",
       "  'default': 'download',\n",
       "  'description': 'path or URL to a libunwind installation or archive file',\n",
       "  'type': 'string'},\n",
       " 'mpi_include_path': {'argparse': {'flags': ('--mpi-include-path',),\n",
       "   'group': 'Message Passing Interface (MPI)',\n",
       "   'metavar': '<path>',\n",
       "   'nargs': '+'},\n",
       "  'description': 'paths to search for MPI header files when building MPI applications',\n",
       "  'type': 'array'},\n",
       " 'mpi_libraries': {'argparse': {'flags': ('--mpi-libraries',),\n",
       "   'group': 'Message Passing Interface (MPI)',\n",
       "   'metavar': '<flag>',\n",
       "   'nargs': '+'},\n",
       "  'description': 'libraries to link to when building MPI applications',\n",
       "  'type': 'array'},\n",
       " 'mpi_library_path': {'argparse': {'flags': ('--mpi-library-path',),\n",
       "   'group': 'Message Passing Interface (MPI)',\n",
       "   'metavar': '<path>',\n",
       "   'nargs': '+'},\n",
       "  'description': 'paths to search for MPI library files when building MPI applications',\n",
       "  'type': 'array'},\n",
       " 'name': {'argparse': {'metavar': '<target_name>'},\n",
       "  'description': 'target configuration name',\n",
       "  'type': 'string',\n",
       "  'unique': True},\n",
       " 'papi_source': {'argparse': {'action': tau.arguments.ParsePackagePathAction,\n",
       "   'flags': ('--papi',),\n",
       "   'group': 'software package',\n",
       "   'metavar': '(<path>|<url>|download|None)'},\n",
       "  'description': 'path or URL to a PAPI installation or archive file',\n",
       "  'type': 'string'},\n",
       " 'pdt_source': {'argparse': {'action': tau.arguments.ParsePackagePathAction,\n",
       "   'flags': ('--pdt',),\n",
       "   'group': 'software package',\n",
       "   'metavar': '(<path>|<url>|download|None)'},\n",
       "  'default': 'download',\n",
       "  'description': 'path or URL to a PDT installation or archive file',\n",
       "  'type': 'string'},\n",
       " 'projects': {'collection': 'Project',\n",
       "  'description': 'projects using this target',\n",
       "  'via': 'targets'},\n",
       " 'score-p_source': {'argparse': {'action': tau.arguments.ParsePackagePathAction,\n",
       "   'flags': ('--score-p',),\n",
       "   'group': 'software package',\n",
       "   'metavar': '(<path>|<url>|download|None)'},\n",
       "  'description': 'path or URL to a Score-P installation or archive file',\n",
       "  'type': 'string'},\n",
       " 'tau_source': {'argparse': {'action': tau.arguments.ParsePackagePathAction,\n",
       "   'flags': ('--tau',),\n",
       "   'group': 'software package',\n",
       "   'metavar': '(<path>|<url>|download)'},\n",
       "  'default': 'download',\n",
       "  'description': 'path or URL to a TAU installation or archive file',\n",
       "  'type': 'string'}}"
      ]
     },
     "execution_count": 6,
     "metadata": {},
     "output_type": "execute_result"
    }
   ],
   "source": [
    "target.Target.attributes"
   ]
  },
  {
   "cell_type": "code",
   "execution_count": 7,
   "metadata": {
    "collapsed": false
   },
   "outputs": [
    {
     "data": {
      "text/plain": [
       "['MPI_FC',\n",
       " 'libunwind_source',\n",
       " 'name',\n",
       " 'mpi_include_path',\n",
       " 'CC',\n",
       " 'score-p_source',\n",
       " 'papi_source',\n",
       " 'UPC',\n",
       " 'tau_source',\n",
       " 'CXX',\n",
       " 'pdt_source',\n",
       " 'FC',\n",
       " 'MPI_CXX',\n",
       " 'mpi_library_path',\n",
       " 'host_arch',\n",
       " 'binutils_source',\n",
       " 'cuda',\n",
       " 'host_os',\n",
       " 'MPI_CC',\n",
       " 'projects',\n",
       " 'mpi_libraries']"
      ]
     },
     "execution_count": 7,
     "metadata": {},
     "output_type": "execute_result"
    }
   ],
   "source": [
    "target.Target.attributes.keys()"
   ]
  },
  {
   "cell_type": "code",
   "execution_count": 8,
   "metadata": {
    "collapsed": true
   },
   "outputs": [],
   "source": [
    "import ipywidgets\n",
    "from IPython.display import display"
   ]
  },
  {
   "cell_type": "code",
   "execution_count": 9,
   "metadata": {
    "collapsed": false
   },
   "outputs": [],
   "source": [
    "targetCuda=ipywidgets.Dropdown(\n",
    "    description='cuda',\n",
    "    options=['True','False'],)\n",
    "display(targetCuda)"
   ]
  },
  {
   "cell_type": "code",
   "execution_count": 11,
   "metadata": {
    "collapsed": false
   },
   "outputs": [
    {
     "name": "stdout",
     "output_type": "stream",
     "text": [
      "False\n"
     ]
    }
   ],
   "source": [
    "print targetCuda.value\n"
   ]
  },
  {
   "cell_type": "code",
   "execution_count": null,
   "metadata": {
    "collapsed": true
   },
   "outputs": [],
   "source": []
  }
 ],
 "metadata": {
  "kernelspec": {
   "display_name": "Python 2",
   "language": "python",
   "name": "python2"
  },
  "language_info": {
   "codemirror_mode": {
    "name": "ipython",
    "version": 2
   },
   "file_extension": ".py",
   "mimetype": "text/x-python",
   "name": "python",
   "nbconvert_exporter": "python",
   "pygments_lexer": "ipython2",
   "version": "2.7.10"
  }
 },
 "nbformat": 4,
 "nbformat_minor": 0
}
