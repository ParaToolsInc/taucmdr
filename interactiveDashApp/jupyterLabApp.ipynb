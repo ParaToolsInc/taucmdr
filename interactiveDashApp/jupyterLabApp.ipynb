{
 "cells": [
  {
   "cell_type": "markdown",
   "id": "a8c98603-057e-41d8-a444-05cc5a091370",
   "metadata": {},
   "source": [
    "# Interactive Dash App\n",
    "---\n",
    "This notebook demonstrates running an interactive dash app in-line with jupyter notebook. It uses:\n",
    "- The TauProfileParser to to parse TAU profile.x.y.z files \n",
    "- Plotly to generate ParaProf-style plots and tables from the profile files\n",
    "- Dash to make these graphs and tables interactive and connected to each other\n",
    "\n",
    "This app was written using sperate python files for each page, which can all be accessed through <i>index.py</i>. This allows for the one line activation call seen below. The command line argument is the path where the TAU profile.x.y.z files are located. See the <i>writeUp.txt</i> file in GitHub for more information on this project. "
   ]
  },
  {
   "cell_type": "code",
   "execution_count": 1,
   "id": "d3dc6bfc-b004-4e24-ba4d-e9d3287c4685",
   "metadata": {},
   "outputs": [
    {
     "name": "stderr",
     "output_type": "stream",
     "text": [
      " * Running on http://127.0.0.1:5632/ (Press CTRL+C to quit)\n",
      "127.0.0.1 - - [06/Jul/2021 11:54:45] \"\u001b[37mGET /_alive_935df87f-3826-4343-8126-893efb0b858f HTTP/1.1\u001b[0m\" 200 -\n"
     ]
    },
    {
     "data": {
      "text/html": [
       "\n",
       "        <iframe\n",
       "            width=\"100%\"\n",
       "            height=\"800\"\n",
       "            src=\"http://127.0.0.1:5632/\"\n",
       "            frameborder=\"0\"\n",
       "            allowfullscreen\n",
       "        ></iframe>\n",
       "        "
      ],
      "text/plain": [
       "<IPython.lib.display.IFrame at 0x7fe7c3919c40>"
      ]
     },
     "metadata": {},
     "output_type": "display_data"
    },
    {
     "name": "stderr",
     "output_type": "stream",
     "text": [
      "127.0.0.1 - - [06/Jul/2021 11:54:45] \"\u001b[37mGET / HTTP/1.1\u001b[0m\" 200 -\n",
      "127.0.0.1 - - [06/Jul/2021 11:54:45] \"\u001b[37mGET /_dash-component-suites/dash_core_components/highlight.v1_3_1m1576595950.pack.js HTTP/1.1\u001b[0m\" 200 -\n",
      "127.0.0.1 - - [06/Jul/2021 11:54:45] \"\u001b[37mGET /_dash-component-suites/dash_core_components/dash_core_components.v1_3_1m1576595950.min.js HTTP/1.1\u001b[0m\" 200 -\n",
      "127.0.0.1 - - [06/Jul/2021 11:54:46] \"\u001b[37mGET /_dash-component-suites/dash_renderer/dash_renderer.v1_1_2m1576595738.min.js HTTP/1.1\u001b[0m\" 200 -\n",
      "127.0.0.1 - - [06/Jul/2021 11:54:46] \"\u001b[37mGET /_dash-layout HTTP/1.1\u001b[0m\" 200 -\n",
      "127.0.0.1 - - [06/Jul/2021 11:54:46] \"\u001b[37mGET /_dash-dependencies HTTP/1.1\u001b[0m\" 200 -\n",
      "127.0.0.1 - - [06/Jul/2021 11:54:46] \"\u001b[37mPOST /_dash-update-component HTTP/1.1\u001b[0m\" 200 -\n",
      "127.0.0.1 - - [06/Jul/2021 11:54:46] \"\u001b[37mPOST /_dash-update-component HTTP/1.1\u001b[0m\" 200 -\n",
      "127.0.0.1 - - [06/Jul/2021 11:54:46] \"\u001b[37mPOST /_dash-update-component HTTP/1.1\u001b[0m\" 200 -\n",
      "127.0.0.1 - - [06/Jul/2021 11:54:53] \"\u001b[37mPOST /_dash-update-component HTTP/1.1\u001b[0m\" 200 -\n",
      "127.0.0.1 - - [06/Jul/2021 11:54:53] \"\u001b[37mPOST /_dash-update-component HTTP/1.1\u001b[0m\" 200 -\n",
      "127.0.0.1 - - [06/Jul/2021 11:54:53] \"\u001b[37mPOST /_dash-update-component HTTP/1.1\u001b[0m\" 200 -\n",
      "127.0.0.1 - - [06/Jul/2021 11:54:53] \"\u001b[37mPOST /_dash-update-component HTTP/1.1\u001b[0m\" 200 -\n"
     ]
    },
    {
     "name": "stdout",
     "output_type": "stream",
     "text": [
      "{'points': [{'curveNumber': 0, 'pointNumber': 65, 'pointIndex': 65, 'x': 28979065, 'y': 'Max', 'text': 'MPI_Sendrecv()'}]}\n",
      "search: -2\n",
      "search: -2\n"
     ]
    },
    {
     "name": "stderr",
     "output_type": "stream",
     "text": [
      "127.0.0.1 - - [06/Jul/2021 11:54:53] \"\u001b[37mPOST /_dash-update-component HTTP/1.1\u001b[0m\" 200 -\n",
      "127.0.0.1 - - [06/Jul/2021 11:55:01] \"\u001b[37mPOST /_dash-update-component HTTP/1.1\u001b[0m\" 200 -\n",
      "127.0.0.1 - - [06/Jul/2021 11:55:04] \"\u001b[37mPOST /_dash-update-component HTTP/1.1\u001b[0m\" 200 -\n",
      "127.0.0.1 - - [06/Jul/2021 11:55:06] \"\u001b[37mPOST /_dash-update-component HTTP/1.1\u001b[0m\" 200 -\n",
      "127.0.0.1 - - [06/Jul/2021 11:55:16] \"\u001b[37mPOST /_dash-update-component HTTP/1.1\u001b[0m\" 200 -\n"
     ]
    }
   ],
   "source": [
    "#runs the dash app from the index.py file, have to restart the kernel if you want to change the profile file path \n",
    "%run index.py '/Users/tobiasmache/LoadImbalance'"
   ]
  }
 ],
 "metadata": {
  "kernelspec": {
   "display_name": "Python 3",
   "language": "python",
   "name": "python3"
  },
  "language_info": {
   "codemirror_mode": {
    "name": "ipython",
    "version": 3
   },
   "file_extension": ".py",
   "mimetype": "text/x-python",
   "name": "python",
   "nbconvert_exporter": "python",
   "pygments_lexer": "ipython3",
   "version": "3.9.5"
  }
 },
 "nbformat": 4,
 "nbformat_minor": 5
}
